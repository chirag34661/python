{
 "cells": [
  {
   "cell_type": "code",
   "execution_count": 1,
   "id": "11000e25-31e9-4974-b09d-34e436e1c442",
   "metadata": {},
   "outputs": [
    {
     "name": "stdout",
     "output_type": "stream",
     "text": [
      "hello\n"
     ]
    }
   ],
   "source": [
    "print(\"hello\")"
   ]
  },
  {
   "cell_type": "code",
   "execution_count": 9,
   "id": "f823e095-57ae-4c3b-b392-25dec30b3254",
   "metadata": {},
   "outputs": [
    {
     "name": "stdin",
     "output_type": "stream",
     "text": [
      "Please enter your designation:  friend\n"
     ]
    },
    {
     "name": "stdout",
     "output_type": "stream",
     "text": [
      "or bhai badhiya\n"
     ]
    }
   ],
   "source": [
    "#Conditional Statement\n",
    "#if,else statement\n",
    "a=input(\"Please enter your designation: \")\n",
    "if a==\"Prof\":\n",
    "    print(\"very very good morning\")\n",
    "    print(\"end of indent if\")\n",
    "elif a=='friend':\n",
    "    print(\"or bhai badhiya\")\n",
    "else:\n",
    "    print(\"no wishes\")"
   ]
  },
  {
   "cell_type": "code",
   "execution_count": 10,
   "id": "7e05fcdd-4f4e-4da2-937d-439d61bb4de0",
   "metadata": {},
   "outputs": [
    {
     "name": "stdout",
     "output_type": "stream",
     "text": [
      "1\n",
      "2\n",
      "3\n",
      "4\n",
      "5\n"
     ]
    }
   ],
   "source": [
    "#Iterative Statement \n",
    "l=[1,2,3,4,5]\n",
    "for _ in l:\n",
    "    print(_)\n",
    "    "
   ]
  },
  {
   "cell_type": "code",
   "execution_count": 12,
   "id": "7ee27585-15ec-4e5f-82fc-f06d4e83053e",
   "metadata": {},
   "outputs": [
    {
     "name": "stdout",
     "output_type": "stream",
     "text": [
      "15\n"
     ]
    }
   ],
   "source": [
    "n=len(l)\n",
    "sum=0\n",
    "for i in range(n):\n",
    "    sum+=l[i]\n",
    "print(sum)"
   ]
  },
  {
   "cell_type": "code",
   "execution_count": 13,
   "id": "dda9e950-fe97-4af1-8317-080964ef9964",
   "metadata": {},
   "outputs": [
    {
     "name": "stdout",
     "output_type": "stream",
     "text": [
      "9\n"
     ]
    }
   ],
   "source": [
    "sum=0\n",
    "for i in range(0,n,1):\n",
    "    sum+=l[i]\n",
    "print(sum)"
   ]
  },
  {
   "cell_type": "code",
   "execution_count": 3,
   "id": "1839db2b-a230-4998-bf58-2c0535a654d8",
   "metadata": {},
   "outputs": [
    {
     "name": "stdin",
     "output_type": "stream",
     "text": [
      "enter the data: 6\n"
     ]
    },
    {
     "name": "stdout",
     "output_type": "stream",
     "text": [
      "value of i: 0\n",
      "value of i: 1\n",
      "value of i: 2\n",
      "value of i: 3\n",
      "value of i: 4\n",
      "value of i: 5\n"
     ]
    }
   ],
   "source": [
    "#while loop\n",
    "n=int(input(\"enter the data:\"))\n",
    "i=0\n",
    "while i<n:\n",
    "    print(\"value of i:\",i)\n",
    "    i+=1"
   ]
  },
  {
   "cell_type": "code",
   "execution_count": 4,
   "id": "eb56492d-a1f0-4fc1-b478-55897de979b9",
   "metadata": {},
   "outputs": [
    {
     "name": "stdout",
     "output_type": "stream",
     "text": [
      "all orders done successfully\n"
     ]
    }
   ],
   "source": [
    "#for else \n",
    "#while else\n",
    "cart=[10,20,30,40,500]\n",
    "for item in cart:\n",
    "    if item>500:\n",
    "        print(\"we cannot process\")\n",
    "        break\n",
    "else:\n",
    "    print(\"all orders done successfully\")"
   ]
  },
  {
   "cell_type": "code",
   "execution_count": 7,
   "id": "eb008e56-15dd-46bb-b5fc-f92d34202a90",
   "metadata": {},
   "outputs": [
    {
     "name": "stdout",
     "output_type": "stream",
     "text": [
      "we cannot process\n"
     ]
    }
   ],
   "source": [
    "cart=[10,20,30,40,500]\n",
    "i=0\n",
    "n=len(cart)\n",
    "while i<n:\n",
    "    if cart[i]>400:\n",
    "        print(\"we cannot process\")\n",
    "        break\n",
    "    i+=1\n",
    "else:\n",
    "    print(\"all orders done successfully\")"
   ]
  },
  {
   "cell_type": "code",
   "execution_count": 9,
   "id": "2cfd1bb1-a7cb-4349-beee-76e14ac9d4e0",
   "metadata": {},
   "outputs": [
    {
     "name": "stdout",
     "output_type": "stream",
     "text": [
      "c\n"
     ]
    }
   ],
   "source": [
    "#String support slicing\n",
    "a=\"chirag\"\n",
    "print(a[0])"
   ]
  },
  {
   "cell_type": "code",
   "execution_count": 10,
   "id": "7f78df3d-f970-494d-ab01-6d8b5fc0f5f5",
   "metadata": {},
   "outputs": [
    {
     "name": "stdout",
     "output_type": "stream",
     "text": [
      "chi\n"
     ]
    }
   ],
   "source": [
    "print(a[0:3])"
   ]
  },
  {
   "cell_type": "code",
   "execution_count": 11,
   "id": "3cee0d86-b405-435d-8e19-3dca2fb56fd7",
   "metadata": {},
   "outputs": [],
   "source": [
    "#s[begin_index:end_index:step]\n",
    "#begin to end-1\n"
   ]
  },
  {
   "cell_type": "code",
   "execution_count": 14,
   "id": "b905a6bc-6bf5-41be-a784-6c9ca5ba7c45",
   "metadata": {
    "scrolled": true
   },
   "outputs": [
    {
     "name": "stdout",
     "output_type": "stream",
     "text": [
      "36\n",
      "earnin\n",
      "earnin\n",
      "learnin\n",
      "g pythin is very very easy!!!\n",
      "learning pythin is very very easy!!!\n",
      "learning pythin is very very easy!!!\n",
      "learning pythin is very very easy!!!\n",
      "!!!ysae yrev yrev si nihtyp gninrael\n"
     ]
    }
   ],
   "source": [
    "s=\"learning pythin is very very easy!!!\"\n",
    "print(len(s))\n",
    "print(s[1:7:1])\n",
    "print(s[1:7])\n",
    "print(s[:7])\n",
    "print(s[7:])\n",
    "print(s[: :])\n",
    "print(s[:])\n",
    "print(s)\n",
    "\n",
    "print(s[::-1])"
   ]
  },
  {
   "cell_type": "code",
   "execution_count": 17,
   "id": "cad8726a-ae6e-4489-897a-7ae610533600",
   "metadata": {},
   "outputs": [
    {
     "name": "stdout",
     "output_type": "stream",
     "text": [
      "bdf\n",
      "abcdefghij\n",
      "gec\n",
      "\n",
      "\n",
      "a\n",
      "\n",
      "\n",
      "fd\n",
      "\n",
      "jihgfed\n"
     ]
    }
   ],
   "source": [
    "s=\"abcdefghij\"\n",
    "print(s[1:6:2])\n",
    "print(s[::1])\n",
    "# print(s[::-1])\n",
    "# print(s[3:7:-1])\n",
    "# print(s[7:4:-1])\n",
    "# print(s[0:10000:1])\n",
    "#print(s[-4:1:-1])\n",
    "# print(s[-4:8:-1])\n",
    "# print(s[-4:8:-1])\n",
    "print(s[-4:1:-2])\n",
    "print(s[5:0:1])\n",
    "print(s[0:-10:-1])\n",
    "print(s[0:-11:-1])\n",
    "print(s[0:0:1])\n",
    "print(s[0:-9:-2])\n",
    "print(s[-5:-9:-2])\n",
    "print(s[10:-1:-1])\n",
    "print(s[10000:2:-1])"
   ]
  },
  {
   "cell_type": "code",
   "execution_count": 20,
   "id": "e6f0636b-37e9-4ba6-8f1a-0ce48a2eabc2",
   "metadata": {},
   "outputs": [
    {
     "name": "stdin",
     "output_type": "stream",
     "text": [
      " D 300\n",
      " D 300\n",
      " W 200\n",
      " D 100\n",
      " \n"
     ]
    },
    {
     "name": "stdout",
     "output_type": "stream",
     "text": [
      "Bank Balance=500\n"
     ]
    }
   ],
   "source": [
    "#question\n",
    "amount=0\n",
    "while True:\n",
    "    s=input()\n",
    "    if not s:\n",
    "        break\n",
    "    operation,data=s.split()\n",
    "    if operation=='D':\n",
    "        amount+=int(data)\n",
    "    elif operation=='W':\n",
    "        amount-=int(data)\n",
    "print(\"Bank Balance=%i\"%(amount))"
   ]
  },
  {
   "cell_type": "code",
   "execution_count": 22,
   "id": "c2240b7d-8776-4124-a60e-af1c6e983919",
   "metadata": {},
   "outputs": [
    {
     "name": "stdin",
     "output_type": "stream",
     "text": [
      " UP 5\n",
      " DOWN 3\n",
      " RIGHT 3\n",
      " LEFT 2\n",
      " \n"
     ]
    },
    {
     "name": "stdout",
     "output_type": "stream",
     "text": [
      "[2, 1]\n",
      "2\n"
     ]
    }
   ],
   "source": [
    "#question\n",
    "import math\n",
    "pos=[0,0]\n",
    "while True:\n",
    "    s=input()\n",
    "    if not s:\n",
    "        break\n",
    "    movement=s.split()\n",
    "    direction=movement[0]\n",
    "    steps=int(movement[1])\n",
    "    if direction=='UP':\n",
    "        pos[0]+=steps\n",
    "    elif direction=='DOWN':\n",
    "        pos[0]-=steps\n",
    "    elif direction=='LEFT':\n",
    "        pos[1]-=steps\n",
    "    elif direction=='RIGHT':\n",
    "        pos[1]+=steps\n",
    "    else:\n",
    "        pass\n",
    "print(pos)\n",
    "print(round(math.sqrt(pos[0]**2+pos[1]**2)))"
   ]
  },
  {
   "cell_type": "code",
   "execution_count": 1,
   "id": "257d1542-968a-421c-90cc-557ac32d9fb2",
   "metadata": {},
   "outputs": [
    {
     "name": "stdout",
     "output_type": "stream",
     "text": [
      "         chirag\n",
      "         chirag\n",
      "chirag\n",
      "chirag\n"
     ]
    }
   ],
   "source": [
    "#how to remove the space of the string\n",
    "#strip\n",
    "#lstrip\n",
    "#rstrip\n",
    "x=input()\n",
    "print(x)\n",
    "removed=x.strip()\n",
    "print(x.strip())\n",
    "print(removed)"
   ]
  },
  {
   "cell_type": "code",
   "execution_count": 25,
   "id": "0578e339-4f2b-4648-acb0-3fb6ef8482aa",
   "metadata": {},
   "outputs": [
    {
     "name": "stdout",
     "output_type": "stream",
     "text": [
      "14\n"
     ]
    }
   ],
   "source": [
    "#finding sub-string\n",
    "#find\n",
    "#index ----value error expception\n",
    "s='Learning python is easy'\n",
    "print(s.find(\"python\")+(len(\"python\")-1))"
   ]
  },
  {
   "cell_type": "code",
   "execution_count": 27,
   "id": "07ffaf51-0f1a-407a-9065-85eb76a1eb4f",
   "metadata": {},
   "outputs": [
    {
     "name": "stdout",
     "output_type": "stream",
     "text": [
      "-1\n",
      "-1\n"
     ]
    },
    {
     "ename": "ValueError",
     "evalue": "substring not found",
     "output_type": "error",
     "traceback": [
      "\u001b[1;31m---------------------------------------------------------------------------\u001b[0m",
      "\u001b[1;31mValueError\u001b[0m                                Traceback (most recent call last)",
      "Cell \u001b[1;32mIn[27], line 4\u001b[0m\n\u001b[0;32m      2\u001b[0m \u001b[38;5;28mprint\u001b[39m(s\u001b[38;5;241m.\u001b[39mfind(\u001b[38;5;124m\"\u001b[39m\u001b[38;5;124mchirag\u001b[39m\u001b[38;5;124m\"\u001b[39m))\n\u001b[0;32m      3\u001b[0m \u001b[38;5;28mprint\u001b[39m(s\u001b[38;5;241m.\u001b[39mfind(\u001b[38;5;124m\"\u001b[39m\u001b[38;5;124mpython\u001b[39m\u001b[38;5;124m\"\u001b[39m,\u001b[38;5;241m1\u001b[39m,\u001b[38;5;241m5\u001b[39m))\n\u001b[1;32m----> 4\u001b[0m \u001b[38;5;28mprint\u001b[39m(\u001b[43ms\u001b[49m\u001b[38;5;241;43m.\u001b[39;49m\u001b[43mindex\u001b[49m\u001b[43m(\u001b[49m\u001b[38;5;124;43m\"\u001b[39;49m\u001b[38;5;124;43mpython\u001b[39;49m\u001b[38;5;124;43m\"\u001b[39;49m\u001b[43m,\u001b[49m\u001b[38;5;241;43m1\u001b[39;49m\u001b[43m,\u001b[49m\u001b[38;5;241;43m5\u001b[39;49m\u001b[43m)\u001b[49m)\n",
      "\u001b[1;31mValueError\u001b[0m: substring not found"
     ]
    }
   ],
   "source": [
    "#find function return -1 when there is no sub string present\n",
    "print(s.find(\"chirag\"))\n",
    "print(s.find(\"python\",1,5))\n",
    "print(s.index(\"python\",1,5))"
   ]
  },
  {
   "cell_type": "code",
   "execution_count": 40,
   "id": "923cf84e-f247-439f-a126-d21c2c536daa",
   "metadata": {},
   "outputs": [
    {
     "name": "stdin",
     "output_type": "stream",
     "text": [
      "Enter the string  rahul rahul rahul rahul rahul rahul\n",
      "Enter the sub-string  rahul\n"
     ]
    }
   ],
   "source": [
    "#Program to display all positions of sub-string given in main string\n",
    "string=input(\"Enter the string \")\n",
    "subString=input(\"Enter the sub-string \")\n",
    "pos=-1\n",
    "flag=False\n",
    "n=len(string)\n",
    "while True:  \n",
    "    pos=s.find(subString,pos+1,n)\n",
    "    if pos==-1:\n",
    "        break\n",
    "    print(\"found at position\",pos)\n",
    "    flag=True\n",
    "    if flag==False:\n",
    "        print('string not found')\n",
    "        break"
   ]
  },
  {
   "cell_type": "code",
   "execution_count": 36,
   "id": "a0b1e6b7-8151-4a03-9682-82418543d22b",
   "metadata": {},
   "outputs": [
    {
     "name": "stdout",
     "output_type": "stream",
     "text": [
      "learning html is learning\n",
      "learning python is learning\n"
     ]
    }
   ],
   "source": [
    "#Replace method\n",
    "s=\"learning python is learning\"\n",
    "s1=(s.replace(\"python\",\"html\"))\n",
    "print(s1)\n",
    "print(s)"
   ]
  },
  {
   "cell_type": "code",
   "execution_count": 37,
   "id": "09f5b53f-50cb-469f-a0bd-2b7f3a27d401",
   "metadata": {
    "scrolled": true
   },
   "outputs": [
    {
     "name": "stdout",
     "output_type": "stream",
     "text": [
      "['1', '2', '3', '4', '5']\n",
      "1,2,3,4,5\n"
     ]
    }
   ],
   "source": [
    "#join method\n",
    "#s=seperator.join(group of string)\n",
    "#list of string\n",
    "#tuple of string\n",
    "l=('1','2')\n",
    "l=[1,2,3,4,5]\n",
    "l1=[]\n",
    "for i in l:\n",
    "    l1.append(str(i))\n",
    "print(l1)\n",
    "s=\",\".join(l1)\n",
    "print(s)"
   ]
  },
  {
   "cell_type": "code",
   "execution_count": 38,
   "id": "c06edb9e-75ba-4207-a206-f7788e894843",
   "metadata": {},
   "outputs": [
    {
     "name": "stdout",
     "output_type": "stream",
     "text": [
      "[1, 2, 3, 4]\n"
     ]
    }
   ],
   "source": [
    "#Wap to remove the duplicate elements in from list\n",
    "l=[1,2,2,3,3,4,1,2,2]\n",
    "l1=[]\n",
    "for i in l:\n",
    "    if i not in l1:\n",
    "        l1.append(i)\n",
    "print(l1)"
   ]
  },
  {
   "cell_type": "code",
   "execution_count": 4,
   "id": "8acfd592-c219-4705-9d57-5cf32845e139",
   "metadata": {},
   "outputs": [
    {
     "name": "stdout",
     "output_type": "stream",
     "text": [
      "Enter the string chirag\n",
      "garihc\n",
      "garihc\n"
     ]
    }
   ],
   "source": [
    "#Wap to reverse the given string\n",
    "s=input(\"Enter the string \")\n",
    "print(s[::-1])\n",
    "print(\"\".join(reversed(s)))"
   ]
  },
  {
   "cell_type": "code",
   "execution_count": 5,
   "id": "dd307784",
   "metadata": {},
   "outputs": [
    {
     "name": "stdout",
     "output_type": "stream",
     "text": [
      "[5, 4, 3, 2, 1]\n"
     ]
    }
   ],
   "source": [
    "l=(1,2,3,4,5)\n",
    "print(list(reversed(l)))"
   ]
  },
  {
   "cell_type": "code",
   "execution_count": 6,
   "id": "e217e4cb",
   "metadata": {},
   "outputs": [
    {
     "name": "stdout",
     "output_type": "stream",
     "text": [
      "Enter the stringrahul software solution\n",
      "luhar erawtfos noitulos\n"
     ]
    }
   ],
   "source": [
    "s=input('Enter the string')\n",
    "l=s.split()\n",
    "l1=[]\n",
    "i=0\n",
    "while (i<len(l)):\n",
    "    l1.append(l[i][::-1])\n",
    "    i+=1\n",
    "print(\" \".join(l1))"
   ]
  },
  {
   "cell_type": "code",
   "execution_count": null,
   "id": "9ce443d0",
   "metadata": {},
   "outputs": [],
   "source": [
    "s=input('Enter the string ')\n",
    "l=s.split()\n",
    "l1=[]\n",
    "i=0\n",
    "while (i<len(l)):\n",
    "    if(i%2==0):\n",
    "        l1.append(l[i][::-1])\n",
    "    else:\n",
    "        l1.append(l[i])\n",
    "        \n",
    "print(\" \".join(l1))"
   ]
  },
  {
   "cell_type": "code",
   "execution_count": 7,
   "id": "e85749d9",
   "metadata": {},
   "outputs": [
    {
     "name": "stdout",
     "output_type": "stream",
     "text": [
      "Enter firstravi\n",
      "Enter lastreja\n",
      "rraevjia\n"
     ]
    }
   ],
   "source": [
    "s1=input(\"Enter first\")\n",
    "s2=input(\"Enter last\")\n",
    "output=''\n",
    "i,j=0,0\n",
    "while i<len(s1) or j<len(s2):\n",
    "    if i<len(s1):\n",
    "        output+=s1[i]\n",
    "        i+=1\n",
    "    if j<len(s2):\n",
    "        output+=s2[j]\n",
    "        j+=1\n",
    "print(output)"
   ]
  },
  {
   "cell_type": "code",
   "execution_count": 1,
   "id": "26545a34",
   "metadata": {},
   "outputs": [
    {
     "name": "stdout",
     "output_type": "stream",
     "text": [
      "Enter the stringa4b3c2\n",
      "aaaabbbcc\n"
     ]
    }
   ],
   "source": [
    "#input: a4b3c2\n",
    "#output: aaaabbbcc\n",
    "s=input(\"Enter the string\")\n",
    "output=\"\"\n",
    "for x in s:\n",
    "    if x.isalpha():\n",
    "        output+=x\n",
    "        previous=x\n",
    "    else:\n",
    "        output=output+previous*(int(x)-1)\n",
    "print(output)"
   ]
  },
  {
   "cell_type": "code",
   "execution_count": 2,
   "id": "9cbfd6ec",
   "metadata": {},
   "outputs": [
    {
     "name": "stdout",
     "output_type": "stream",
     "text": [
      "Enter the stringa4k3b2\n",
      "aeknbd\n"
     ]
    }
   ],
   "source": [
    "#input:a4k3b2\n",
    "#output:aeknbd\n",
    "s=input(\"Enter the string\")\n",
    "output=\"\"\n",
    "for x in s:\n",
    "    if x.isalpha():\n",
    "        output+=x\n",
    "        previous=x\n",
    "    else:\n",
    "        output+=chr(ord(previous)+int(x))\n",
    "print(output)"
   ]
  },
  {
   "cell_type": "code",
   "execution_count": 5,
   "id": "96c68e88",
   "metadata": {},
   "outputs": [
    {
     "name": "stdout",
     "output_type": "stream",
     "text": [
      "Enter the string ABCDABBCDABBBCCCDDEEEF\n",
      "ABCDEF\n"
     ]
    }
   ],
   "source": [
    "#input: ABCDABBCDABBBCCCDDEEEF\n",
    "s=input(\"Enter the string \")\n",
    "s1=[]\n",
    "for i in s:\n",
    "    if i not in s1:\n",
    "        s1+=i\n",
    "print(\"\".join(s1))"
   ]
  },
  {
   "cell_type": "code",
   "execution_count": 11,
   "id": "0e3321c4",
   "metadata": {},
   "outputs": [
    {
     "name": "stdout",
     "output_type": "stream",
     "text": [
      "Enter the stringB4A1D3\n"
     ]
    },
    {
     "ename": "IndexError",
     "evalue": "string index out of range",
     "output_type": "error",
     "traceback": [
      "\u001b[1;31m---------------------------------------------------------------------------\u001b[0m",
      "\u001b[1;31mIndexError\u001b[0m                                Traceback (most recent call last)",
      "Cell \u001b[1;32mIn[11], line 10\u001b[0m\n\u001b[0;32m      8\u001b[0m         j\u001b[38;5;241m+\u001b[39m\u001b[38;5;241m=\u001b[39m\u001b[38;5;241m1\u001b[39m\n\u001b[0;32m      9\u001b[0m         \u001b[38;5;28;01mif\u001b[39;00m i\u001b[38;5;241m>\u001b[39moutput:\n\u001b[1;32m---> 10\u001b[0m             output[j],i\u001b[38;5;241m=\u001b[39mi,output[j]\n\u001b[0;32m     11\u001b[0m \u001b[38;5;28;01mfor\u001b[39;00m i \u001b[38;5;129;01min\u001b[39;00m s:\n\u001b[0;32m     12\u001b[0m     \u001b[38;5;28;01mif\u001b[39;00m i\u001b[38;5;241m.\u001b[39misdigit():\n",
      "\u001b[1;31mIndexError\u001b[0m: string index out of range"
     ]
    }
   ],
   "source": [
    "#input: B4A1D3\n",
    "s=input(\"Enter the string\")\n",
    "output=\"\"\n",
    "j=0\n",
    "for i in s:\n",
    "    if i.isalpha():\n",
    "        output+=i\n",
    "        if i>output:\n",
    "            output[j],i=i,output[j]\n",
    "        j+=1\n",
    "for i in s:\n",
    "    if i.isdigit():\n",
    "        output+=i\n",
    "        if i>output:\n",
    "            output[j],i=i,output[j]\n"
   ]
  },
  {
   "cell_type": "code",
   "execution_count": 14,
   "id": "3fc27ab4",
   "metadata": {},
   "outputs": [
    {
     "name": "stdout",
     "output_type": "stream",
     "text": [
      "Enter the data ABCABCABCABBCDE\n",
      "A-4,B-5,C-4,D-1,E-1\n"
     ]
    }
   ],
   "source": [
    "#program to get the frequency of every letter in a sentence\n",
    "#Input-ABCABCABCABBCDE\n",
    "s=input(\"Enter the data \")\n",
    "d={ }\n",
    "for x in s:\n",
    "    if x in d.keys():\n",
    "        d[x]=d[x]+1\n",
    "    else:\n",
    "        d[x]=1\n",
    "for k,v in d.items():\n",
    "        print(\"{}-{}\".format(k,v),end=\",\")\n",
    "        \n",
    "print(\"\\b\")"
   ]
  },
  {
   "cell_type": "code",
   "execution_count": 15,
   "id": "9d222089",
   "metadata": {},
   "outputs": [
    {
     "name": "stdout",
     "output_type": "stream",
     "text": [
      "Enter the data ABCABCABCABBCDE\n",
      "A-4,B-5,C-4,D-1,E-1\n"
     ]
    }
   ],
   "source": [
    "#program to get the frequency of every letter in a sentence\n",
    "#Input-ABCABCABCABBCDE\n",
    "s=input(\"Enter the data \")\n",
    "d={ }\n",
    "l=[]\n",
    "for x in s:\n",
    "    if x in d.keys():\n",
    "        d[x]=d[x]+1\n",
    "    else:\n",
    "        d[x]=1\n",
    "for k,v in d.items():\n",
    "        temp=\"{}-{}\".format(k,v)\n",
    "        l.append(temp)\n",
    "print(\",\".join(l))"
   ]
  },
  {
   "cell_type": "code",
   "execution_count": 17,
   "id": "893f885b",
   "metadata": {},
   "outputs": [
    {
     "name": "stdout",
     "output_type": "stream",
     "text": [
      "hello rahul ,your age is 35\n"
     ]
    }
   ],
   "source": [
    "#formating of dictionary with string format method\n",
    "person={\"name\":\"rahul\",\"age\":35}\n",
    "print(\"hello {} ,your age is {}\".format(person['name'],person['age']))"
   ]
  },
  {
   "cell_type": "code",
   "execution_count": 19,
   "id": "34756ad0",
   "metadata": {},
   "outputs": [
    {
     "name": "stdout",
     "output_type": "stream",
     "text": [
      "hello rahul ,your age is 35\n"
     ]
    }
   ],
   "source": [
    "#formating of dictionary with string format method\n",
    "person={\"name\":\"rahul\",\"age\":35}\n",
    "print(\"hello {name} ,your age is {age}\".format(**person))"
   ]
  },
  {
   "cell_type": "code",
   "execution_count": 21,
   "id": "55c599f9",
   "metadata": {},
   "outputs": [
    {
     "name": "stdout",
     "output_type": "stream",
     "text": [
      "enter the data [1,2,3,4,5]\n",
      "list\n",
      "<class 'list'>\n"
     ]
    }
   ],
   "source": [
    "list=eval(input(\"enter the data \"))\n",
    "print(\"list\")\n",
    "print(type(list))"
   ]
  },
  {
   "cell_type": "code",
   "execution_count": 4,
   "id": "ed4ab386",
   "metadata": {},
   "outputs": [
    {
     "name": "stdout",
     "output_type": "stream",
     "text": [
      "[0, 2, 4, 6, 8]\n",
      "5\n",
      "11\n"
     ]
    }
   ],
   "source": [
    "#how to create list with list function\n",
    "l1=list(range(0,10,2))\n",
    "print(l1)\n",
    "#len()\n",
    "print(len(l1))\n",
    "#count()\n",
    "l2=[1,2,2,2,2,2,2,2,2,2,2,2,4,4,4,4,4,4,4,4,4]\n",
    "print(l2.count(2))"
   ]
  },
  {
   "cell_type": "code",
   "execution_count": 6,
   "id": "161bd598",
   "metadata": {},
   "outputs": [
    {
     "name": "stdout",
     "output_type": "stream",
     "text": [
      "1\n"
     ]
    }
   ],
   "source": [
    "#index()\n",
    "print(l2.index(2))"
   ]
  },
  {
   "cell_type": "code",
   "execution_count": 8,
   "id": "9093ea25",
   "metadata": {},
   "outputs": [
    {
     "name": "stdout",
     "output_type": "stream",
     "text": [
      "[1, 2, 2, 2, 2, 2, 2, 2, 2, 2, 2, 2, 4, 4, 4, 4, 4, 4, 4, 4, 4, 'rahul']\n"
     ]
    }
   ],
   "source": [
    "#manipulation of list\n",
    "#append ()\n",
    "#add item at the end of the list\n",
    "l2.append(\"rahul\")\n",
    "print(l2)"
   ]
  },
  {
   "cell_type": "code",
   "execution_count": 12,
   "id": "c177bdca",
   "metadata": {},
   "outputs": [
    {
     "name": "stdout",
     "output_type": "stream",
     "text": [
      "[0, 10, 20, 30, 40, 50, 60, 70, 80, 90, 100]\n"
     ]
    }
   ],
   "source": [
    "l=[]\n",
    "for i in range(101):\n",
    "    if i%10==0:\n",
    "        l.append(i)\n",
    "print(l)"
   ]
  },
  {
   "cell_type": "code",
   "execution_count": 13,
   "id": "b2ef6c13",
   "metadata": {},
   "outputs": [
    {
     "name": "stdout",
     "output_type": "stream",
     "text": [
      "[0, 10, 20, 30, 40, 50, 60, 70, 80, 90, 100]\n"
     ]
    }
   ],
   "source": [
    "l=list(range(0,101,10))\n",
    "print(l)"
   ]
  },
  {
   "cell_type": "code",
   "execution_count": 14,
   "id": "643152ed",
   "metadata": {},
   "outputs": [],
   "source": [
    "#insert\n",
    "l.insert(2,88)"
   ]
  },
  {
   "cell_type": "code",
   "execution_count": 15,
   "id": "6f64edba",
   "metadata": {},
   "outputs": [
    {
     "name": "stdout",
     "output_type": "stream",
     "text": [
      "[0, 10, 88, 20, 30, 40, 50, 60, 70, 80, 90, 100]\n"
     ]
    }
   ],
   "source": [
    "print(l)"
   ]
  },
  {
   "cell_type": "code",
   "execution_count": 18,
   "id": "f799a276",
   "metadata": {},
   "outputs": [
    {
     "name": "stdout",
     "output_type": "stream",
     "text": [
      "[1, 2, 3, 'rahul', 'dubey']\n",
      "[1, 2, 3, 'rahul', 'dubey']\n"
     ]
    }
   ],
   "source": [
    "#extend\n",
    "l=[1,2,3]\n",
    "l1=[\"rahul\",\"dubey\"]\n",
    "l2=l+l1\n",
    "print(l2)\n",
    "l.extend(l1)\n",
    "print(l)"
   ]
  },
  {
   "cell_type": "code",
   "execution_count": 25,
   "id": "ec3bd11c",
   "metadata": {},
   "outputs": [
    {
     "name": "stdout",
     "output_type": "stream",
     "text": [
      "2\n"
     ]
    }
   ],
   "source": [
    "#pop\n",
    "print(l.pop(0))"
   ]
  },
  {
   "cell_type": "code",
   "execution_count": 28,
   "id": "d46ebe14",
   "metadata": {},
   "outputs": [
    {
     "name": "stdout",
     "output_type": "stream",
     "text": [
      "[3, 2, 1]\n",
      "None\n",
      "None\n"
     ]
    }
   ],
   "source": [
    "#ordering of list data\n",
    "# reverse():\n",
    "l=[1,2,3]\n",
    "l.reverse()\n",
    "print(l)\n",
    "print(l.reverse())"
   ]
  },
  {
   "cell_type": "code",
   "execution_count": 29,
   "id": "bd892c3b",
   "metadata": {},
   "outputs": [
    {
     "name": "stdout",
     "output_type": "stream",
     "text": [
      "None\n",
      "['1,2,3', 'amit', 'chirag']\n"
     ]
    }
   ],
   "source": [
    "l=['chirag','amit','1,2,3']\n",
    "print(l.sort())\n",
    "print(l)"
   ]
  },
  {
   "cell_type": "code",
   "execution_count": 30,
   "id": "17272a65",
   "metadata": {},
   "outputs": [
    {
     "name": "stdout",
     "output_type": "stream",
     "text": [
      "['1,2,3', 'amit', 'chirag']\n"
     ]
    }
   ],
   "source": [
    "l=['chirag','amit','1,2,3']\n",
    "l.sort()\n",
    "print(l)"
   ]
  },
  {
   "cell_type": "code",
   "execution_count": 31,
   "id": "306f0c13",
   "metadata": {},
   "outputs": [
    {
     "name": "stdout",
     "output_type": "stream",
     "text": [
      "None\n",
      "[5, 3, 1]\n"
     ]
    }
   ],
   "source": [
    "#by default sort function use ascending order \n",
    "l=[1,5,3]\n",
    "print(l.sort(reverse=True))\n",
    "print(l)"
   ]
  },
  {
   "cell_type": "code",
   "execution_count": 33,
   "id": "571689ac",
   "metadata": {},
   "outputs": [
    {
     "name": "stdout",
     "output_type": "stream",
     "text": [
      "[1, 2, 3, 4, 5]\n",
      "2712832947840\n",
      "2712832947840\n"
     ]
    }
   ],
   "source": [
    "#aliasing and copy\n",
    "x=[1,2,3,4,5]\n",
    "y=x\n",
    "print(y)\n",
    "print(id(x))\n",
    "print(id(y))"
   ]
  },
  {
   "cell_type": "code",
   "execution_count": 34,
   "id": "522b1d75",
   "metadata": {},
   "outputs": [
    {
     "name": "stdout",
     "output_type": "stream",
     "text": [
      "[1, 2, 3, 4, 5]\n",
      "2712832966528\n",
      "2712833196096\n"
     ]
    }
   ],
   "source": [
    "#aliasing and copy\n",
    "x=[1,2,3,4,5]\n",
    "y=x.copy()\n",
    "print(y)\n",
    "print(id(x))\n",
    "print(id(y))"
   ]
  },
  {
   "cell_type": "code",
   "execution_count": 35,
   "id": "721b63e9",
   "metadata": {},
   "outputs": [
    {
     "name": "stdout",
     "output_type": "stream",
     "text": [
      "[1, 2, 3, 4, 5]\n",
      "2712832934464\n",
      "2712833244032\n"
     ]
    }
   ],
   "source": [
    "#aliasing and copy\n",
    "x=[1,2,3,4,5]\n",
    "y=x[::]\n",
    "print(y)\n",
    "print(id(x))\n",
    "print(id(y))"
   ]
  },
  {
   "cell_type": "code",
   "execution_count": 36,
   "id": "dbd0f8d4",
   "metadata": {},
   "outputs": [
    {
     "name": "stdout",
     "output_type": "stream",
     "text": [
      "[1, 2, 3, 4, 5, 1, 2, 3, 4, 5, 1, 2, 3, 4, 5]\n"
     ]
    }
   ],
   "source": [
    "x=[1,2,3,4,5]\n",
    "y=x*3\n",
    "print(y)"
   ]
  },
  {
   "cell_type": "code",
   "execution_count": 38,
   "id": "d8604caa",
   "metadata": {},
   "outputs": [
    {
     "name": "stdout",
     "output_type": "stream",
     "text": [
      "[1, 2, 3, 4, 5]\n",
      "[]\n"
     ]
    }
   ],
   "source": [
    "# clear function\n",
    "x=[1,2,3,4,5]\n",
    "print(x)\n",
    "x.clear()\n",
    "print(x)"
   ]
  },
  {
   "cell_type": "code",
   "execution_count": 3,
   "id": "a3fa53ab",
   "metadata": {},
   "outputs": [
    {
     "name": "stdout",
     "output_type": "stream",
     "text": [
      "Enter data 10\n",
      "[0, 1, 4, 9, 16, 25, 36, 49, 64, 81]\n"
     ]
    }
   ],
   "source": [
    "#list comprehension\n",
    "n=int(input(\"Enter data \"))\n",
    "l=[int(i**2) for i in range(n)]\n",
    "print(l)"
   ]
  },
  {
   "cell_type": "code",
   "execution_count": 42,
   "id": "6654e2ed",
   "metadata": {},
   "outputs": [
    {
     "name": "stdout",
     "output_type": "stream",
     "text": [
      "Enter data 7\n",
      "[0, 1, 4, 9, 16, 25, 36]\n"
     ]
    }
   ],
   "source": [
    "n=int(input(\"Enter data \"))\n",
    "l=list(range(n))\n",
    "l1=[]\n",
    "for i in l:\n",
    "    l1.append(i**2)\n",
    "print(l1)"
   ]
  },
  {
   "cell_type": "code",
   "execution_count": 47,
   "id": "49de7d63",
   "metadata": {},
   "outputs": [
    {
     "name": "stdout",
     "output_type": "stream",
     "text": [
      "Enter the data 1 2 3 4 5\n",
      "[1, 2, 3, 4, 5]\n"
     ]
    }
   ],
   "source": [
    "x=[int(i) for i in input(\"Enter the data \").split()]\n",
    "print(x)"
   ]
  },
  {
   "cell_type": "code",
   "execution_count": 6,
   "id": "71f5a446",
   "metadata": {},
   "outputs": [
    {
     "name": "stdout",
     "output_type": "stream",
     "text": [
      "Enter the string rahulaui\n",
      "Unique alphabets: aui\n"
     ]
    }
   ],
   "source": [
    "#Wap to give the unique vowels in output\n",
    "#given word if input is string\n",
    "l=['a','e','i','o','u']\n",
    "s=input(\"Enter the string \")\n",
    "output=\"\"\n",
    "for letter in s:\n",
    "    if letter in l:\n",
    "        if letter not in output:\n",
    "            output+=letter\n",
    "print(\"Unique alphabets:\",output)"
   ]
  },
  {
   "cell_type": "code",
   "execution_count": 25,
   "id": "d15f23b5",
   "metadata": {},
   "outputs": [
    {
     "name": "stdout",
     "output_type": "stream",
     "text": [
      "Enter the list [1,2,4,3,2,6]\n",
      "[1, 2, 2, 3, 4, 6]\n"
     ]
    }
   ],
   "source": [
    "#selection sort\n",
    "l=eval(input(\"Enter the list \"))\n",
    "for i in range(len(l)):\n",
    "    for j in range(len(l)):\n",
    "        if l[j]>l[i]:\n",
    "            l[i],l[j]=l[j],l[i]\n",
    "print(l)"
   ]
  },
  {
   "cell_type": "code",
   "execution_count": 20,
   "id": "bfdc2c37",
   "metadata": {},
   "outputs": [
    {
     "data": {
      "text/plain": [
       "['_STRUCT_TM_ITEMS',\n",
       " '__doc__',\n",
       " '__loader__',\n",
       " '__name__',\n",
       " '__package__',\n",
       " '__spec__',\n",
       " 'altzone',\n",
       " 'asctime',\n",
       " 'ctime',\n",
       " 'daylight',\n",
       " 'get_clock_info',\n",
       " 'gmtime',\n",
       " 'localtime',\n",
       " 'mktime',\n",
       " 'monotonic',\n",
       " 'monotonic_ns',\n",
       " 'perf_counter',\n",
       " 'perf_counter_ns',\n",
       " 'process_time',\n",
       " 'process_time_ns',\n",
       " 'sleep',\n",
       " 'strftime',\n",
       " 'strptime',\n",
       " 'struct_time',\n",
       " 'thread_time',\n",
       " 'thread_time_ns',\n",
       " 'time',\n",
       " 'time_ns',\n",
       " 'timezone',\n",
       " 'tzname']"
      ]
     },
     "execution_count": 20,
     "metadata": {},
     "output_type": "execute_result"
    }
   ],
   "source": [
    "dir(time)"
   ]
  },
  {
   "cell_type": "code",
   "execution_count": 27,
   "id": "f94f5419",
   "metadata": {},
   "outputs": [
    {
     "name": "stdout",
     "output_type": "stream",
     "text": [
      "<class 'tuple'>\n",
      "(1, 2, 3, 4, 5)\n"
     ]
    }
   ],
   "source": [
    "#tuple data structure\n",
    "t=1,2,3,4,5\n",
    "print(type(t))\n",
    "print(t)"
   ]
  },
  {
   "cell_type": "code",
   "execution_count": 29,
   "id": "373ef973",
   "metadata": {},
   "outputs": [
    {
     "name": "stdout",
     "output_type": "stream",
     "text": [
      "<class 'tuple'>\n",
      "<class 'list'>\n"
     ]
    }
   ],
   "source": [
    "#We can convert tuple into list and vice-versa\n",
    "t=(1,2,3,4,5)\n",
    "l=tuple(t)\n",
    "print(type(l))\n",
    "l=(1,2,3,4,5)\n",
    "t=list(l)\n",
    "print(type(t))"
   ]
  },
  {
   "cell_type": "code",
   "execution_count": 30,
   "id": "1b0f56ca",
   "metadata": {},
   "outputs": [
    {
     "name": "stdout",
     "output_type": "stream",
     "text": [
      "<class 'generator'>\n"
     ]
    }
   ],
   "source": [
    "#tuple comprehension\n",
    "t=(i**2 for i in range(10))\n",
    "print(type(t))\n"
   ]
  },
  {
   "cell_type": "code",
   "execution_count": 32,
   "id": "7fe344f6",
   "metadata": {},
   "outputs": [
    {
     "name": "stdout",
     "output_type": "stream",
     "text": [
      "<class 'dict'>\n",
      "<class 'dict'>\n"
     ]
    }
   ],
   "source": [
    "#dictionary\n",
    "d={ }\n",
    "e=dict()\n",
    "print(type(d))\n",
    "print(type(e))"
   ]
  },
  {
   "cell_type": "code",
   "execution_count": 33,
   "id": "49ab9814",
   "metadata": {},
   "outputs": [
    {
     "name": "stdout",
     "output_type": "stream",
     "text": [
      "{'name': 'chirag'}\n"
     ]
    }
   ],
   "source": [
    "d[\"name\"]=\"chirag\"\n",
    "print(d)"
   ]
  },
  {
   "cell_type": "code",
   "execution_count": 34,
   "id": "fd64245f",
   "metadata": {},
   "outputs": [
    {
     "data": {
      "text/plain": [
       "{'name': 'chirag'}"
      ]
     },
     "execution_count": 34,
     "metadata": {},
     "output_type": "execute_result"
    }
   ],
   "source": [
    "d"
   ]
  },
  {
   "cell_type": "code",
   "execution_count": 35,
   "id": "a43e7a77",
   "metadata": {},
   "outputs": [
    {
     "name": "stdout",
     "output_type": "stream",
     "text": [
      "Enter the number of the students: 4\n",
      "enter the name:amit\n",
      "Enter the marks:50\n",
      "enter the name:ashu\n",
      "Enter the marks:30\n",
      "enter the name:chirag\n",
      "Enter the marks:53\n",
      "enter the name:abhay\n",
      "Enter the marks:100\n",
      "Student data is \n",
      "------------------------------------------------------------\n",
      "{'amit': 50.0, 'ashu': 30.0, 'chirag': 53.0, 'abhay': 100.0}\n"
     ]
    }
   ],
   "source": [
    "#wap to enter name and percentage marks in a Dictionary and display\n",
    "#information on the screen\n",
    "rec={}\n",
    "n=int(input(\"Enter the number of the students: \"))\n",
    "i=1\n",
    "while i<=n:\n",
    "    name=input(\"enter the name:\")\n",
    "    marks=float(input(\"Enter the marks:\"))\n",
    "    rec[name]=marks\n",
    "    i+=1\n",
    "print(\"Student data is \")\n",
    "print(\"----\"*15)\n",
    "print(rec)"
   ]
  },
  {
   "cell_type": "code",
   "execution_count": 36,
   "id": "3618456b",
   "metadata": {},
   "outputs": [],
   "source": [
    "del rec['amit']"
   ]
  },
  {
   "cell_type": "code",
   "execution_count": 37,
   "id": "84f68b58",
   "metadata": {},
   "outputs": [
    {
     "data": {
      "text/plain": [
       "{'ashu': 30.0, 'chirag': 53.0, 'abhay': 100.0}"
      ]
     },
     "execution_count": 37,
     "metadata": {},
     "output_type": "execute_result"
    }
   ],
   "source": [
    "rec"
   ]
  },
  {
   "cell_type": "code",
   "execution_count": 38,
   "id": "b48da7e4",
   "metadata": {},
   "outputs": [
    {
     "data": {
      "text/plain": [
       "3"
      ]
     },
     "execution_count": 38,
     "metadata": {},
     "output_type": "execute_result"
    }
   ],
   "source": [
    "#length function\n",
    "len(rec)"
   ]
  },
  {
   "cell_type": "code",
   "execution_count": 39,
   "id": "e3b2c8fd",
   "metadata": {},
   "outputs": [
    {
     "name": "stdout",
     "output_type": "stream",
     "text": [
      "53.0\n"
     ]
    }
   ],
   "source": [
    "x=rec.get('chirag')\n",
    "print(x)"
   ]
  },
  {
   "cell_type": "code",
   "execution_count": 40,
   "id": "8839b086",
   "metadata": {},
   "outputs": [
    {
     "name": "stdout",
     "output_type": "stream",
     "text": [
      "hero\n"
     ]
    }
   ],
   "source": [
    "x=rec.get('amit','hero')\n",
    "print(x)"
   ]
  },
  {
   "cell_type": "code",
   "execution_count": 42,
   "id": "12219bf9",
   "metadata": {},
   "outputs": [
    {
     "name": "stdout",
     "output_type": "stream",
     "text": [
      "{'ashu': 30.0, 'abhay': 100.0}\n"
     ]
    }
   ],
   "source": [
    "rec.pop('chirag')\n",
    "print(rec)"
   ]
  },
  {
   "cell_type": "code",
   "execution_count": 45,
   "id": "3228fcff",
   "metadata": {},
   "outputs": [
    {
     "data": {
      "text/plain": [
       "{'ashu': 30.0, 'abhay': 100.0, 'amit': 300}"
      ]
     },
     "execution_count": 45,
     "metadata": {},
     "output_type": "execute_result"
    }
   ],
   "source": [
    "rec.setdefault('amit',300)\n",
    "rec"
   ]
  },
  {
   "cell_type": "code",
   "execution_count": 49,
   "id": "080d0b50",
   "metadata": {},
   "outputs": [
    {
     "name": "stdout",
     "output_type": "stream",
     "text": [
      "{'a': 7, 'b': 4, 'd': 4, 'c': 3}\n"
     ]
    }
   ],
   "source": [
    "# get()\n",
    "s='aabababaadddccacbd'\n",
    "d={}\n",
    "for i in s:\n",
    "    d[i]=d.get(i,0)+1\n",
    "print(d)"
   ]
  },
  {
   "cell_type": "code",
   "execution_count": 50,
   "id": "185d20c3",
   "metadata": {},
   "outputs": [
    {
     "name": "stdout",
     "output_type": "stream",
     "text": [
      "{0: 0, 1: 1, 2: 4, 3: 9, 4: 16, 5: 25, 6: 36, 7: 49, 8: 64, 9: 81}\n"
     ]
    }
   ],
   "source": [
    "#dictionary comprehension\n",
    "d={x:x**2 for x in range(10)}\n",
    "print(d)"
   ]
  },
  {
   "cell_type": "code",
   "execution_count": 4,
   "id": "c99a9c6d",
   "metadata": {},
   "outputs": [
    {
     "name": "stdout",
     "output_type": "stream",
     "text": [
      "False\n"
     ]
    }
   ],
   "source": [
    "x=True\n",
    "print(not x)"
   ]
  },
  {
   "cell_type": "code",
   "execution_count": 9,
   "id": "01c4a07b",
   "metadata": {},
   "outputs": [
    {
     "name": "stdout",
     "output_type": "stream",
     "text": [
      "Enter the no. of the elements in dictionary:5\n",
      "Enter the sequence no.1\n",
      "Enter the value3\n",
      "Enter the sequence no.2\n",
      "Enter the value4\n",
      "Enter the sequence no.3\n",
      "Enter the value5\n",
      "Enter the sequence no.4\n",
      "Enter the value7\n",
      "Enter the sequence no.5\n",
      "Enter the value8\n",
      "{'1': '3', '2': '4', '3': '5', '4': '7', '5': '8'}\n",
      "27\n"
     ]
    }
   ],
   "source": [
    "dict={}\n",
    "n=int(input(\"Enter the no. of the elements in dictionary:\"))\n",
    "i=0\n",
    "sum=0\n",
    "while i<n:\n",
    "    s=input(\"Enter the sequence no.\")\n",
    "    t=input(\"Enter the value \")\n",
    "    sum+=int(t)\n",
    "    dict[s]=t\n",
    "    i+=1\n",
    "print(dict)\n",
    "print(sum)"
   ]
  },
  {
   "cell_type": "code",
   "execution_count": 12,
   "id": "81008de4",
   "metadata": {},
   "outputs": [
    {
     "name": "stdout",
     "output_type": "stream",
     "text": [
      "Enter the no. of the students3\n",
      "Enter the name of the student amit\n",
      "Enter the marks of the student 30\n",
      "Enter the name of the student ashu\n",
      "Enter the marks of the student 20\n",
      "Enter the name of the student chirag\n",
      "Enter the marks of the student 40\n",
      "Enter the student name to find its marks:chirag\n",
      "chirag get 40 marks\n"
     ]
    }
   ],
   "source": [
    "#Wap to accept the student name and marks from the keyboard and creates a Dictionary.Also display student marks \n",
    "#taking student name as input\n",
    "n=int(input(\"Enter the no. of the students\"))\n",
    "d={}\n",
    "for i in range(n):\n",
    "    s=input(\"Enter the name of the student \")\n",
    "    m=input(\"Enter the marks of the student \")\n",
    "    d[s]=m\n",
    "inp=input(\"Enter the student name to find its marks:\")\n",
    "print(inp,\"get\",d[inp],\"marks\")"
   ]
  },
  {
   "cell_type": "code",
   "execution_count": 20,
   "id": "3f7b4976",
   "metadata": {},
   "outputs": [
    {
     "name": "stdout",
     "output_type": "stream",
     "text": [
      "Enter the data:chirag dewanga\n",
      "1\n",
      "2\n",
      "{'chirag': 1, 'dewanga': 2}\n"
     ]
    }
   ],
   "source": [
    "#dictionary comprehension\n",
    "s=input(\"Enter the data:\").split()\n",
    "d={x:int(input()) for x in s}\n",
    "print(d)"
   ]
  },
  {
   "cell_type": "code",
   "execution_count": 21,
   "id": "3dddca2d",
   "metadata": {},
   "outputs": [
    {
     "name": "stdout",
     "output_type": "stream",
     "text": [
      "<class 'set'>\n"
     ]
    }
   ],
   "source": [
    "#set only contain the unique value\n",
    "#how to create a set\n",
    "s={1,2,3,4,5}\n",
    "print(type(s))"
   ]
  },
  {
   "cell_type": "code",
   "execution_count": 24,
   "id": "9372229c",
   "metadata": {},
   "outputs": [
    {
     "name": "stdout",
     "output_type": "stream",
     "text": [
      "{1, 2, 3, 4, 5, 6, 7}\n"
     ]
    }
   ],
   "source": [
    "#Program to remove the duplicates from the list\n",
    "l=[1,2,2,3,3,4,5,6,5,4,6,7]\n",
    "a=set(l)\n",
    "print(a)\n"
   ]
  },
  {
   "cell_type": "code",
   "execution_count": 27,
   "id": "c4dba488",
   "metadata": {},
   "outputs": [
    {
     "name": "stdout",
     "output_type": "stream",
     "text": [
      "{1, 2, 3, 4, 30}\n",
      "{1, 2, 3, 4, 6, 7, 8, 9, 30}\n"
     ]
    }
   ],
   "source": [
    "#insertion order is not preserved\n",
    "# add() in set\n",
    "s={1,2,3,4}\n",
    "s.add(30)\n",
    "print(s)\n",
    "for i in range(6,10):\n",
    "    s.add(i)\n",
    "print(s)\n"
   ]
  },
  {
   "cell_type": "code",
   "execution_count": 33,
   "id": "fb4efe89",
   "metadata": {},
   "outputs": [
    {
     "name": "stdout",
     "output_type": "stream",
     "text": [
      "{1, 2, 3, 4, 5, 6, 7, 8, 9}\n",
      "set()\n",
      "{1, 2, 3, 4, 5}\n"
     ]
    }
   ],
   "source": [
    "#Some set mathematical operation\n",
    "x={1,2,3,4,5}\n",
    "y={6,7,8,9}\n",
    "print(x.union(y))\n",
    "print(x.intersection(y))\n",
    "print(x-y)"
   ]
  },
  {
   "cell_type": "code",
   "execution_count": 34,
   "id": "9bb70492",
   "metadata": {},
   "outputs": [
    {
     "name": "stdout",
     "output_type": "stream",
     "text": [
      "{0, 1, 4, 9, 16}\n"
     ]
    }
   ],
   "source": [
    "#Set comprehension\n",
    "s={x*x for x in range(5)}\n",
    "print(s)"
   ]
  },
  {
   "cell_type": "code",
   "execution_count": 42,
   "id": "1f4576a1",
   "metadata": {},
   "outputs": [
    {
     "name": "stdout",
     "output_type": "stream",
     "text": [
      "enter the wordhello\n",
      "{'h', 'o', 'e', 'l'}\n",
      "The letters present in the word hello: {'e', 'o'}\n"
     ]
    }
   ],
   "source": [
    "#wap to print different vowels present in a given word\n",
    "s=input(\"enter the word\")\n",
    "a=set(s)\n",
    "print(a)\n",
    "v={'a','e','i','o','u'}\n",
    "print(\"The letters present in the word %s:\"%s,a.intersection(v))"
   ]
  },
  {
   "cell_type": "code",
   "execution_count": 43,
   "id": "31fef161",
   "metadata": {},
   "outputs": [],
   "source": [
    "#how to create Function\n",
    "def func_name(parameters):\n",
    "    \"\"\"this is function doc string\"\"\"\n",
    "    pass"
   ]
  },
  {
   "cell_type": "code",
   "execution_count": 46,
   "id": "8de6776e",
   "metadata": {},
   "outputs": [
    {
     "name": "stdout",
     "output_type": "stream",
     "text": [
      "<class 'function'>\n",
      "<function func_name at 0x00000191A1E351C0>\n",
      "None\n"
     ]
    }
   ],
   "source": [
    "func_name(\"tt\") #function calling\n",
    "print(type(func_name)) #function type identification\n",
    "print(func_name)\n",
    "y=func_name\n",
    "print(y('chirag'))\n"
   ]
  },
  {
   "cell_type": "code",
   "execution_count": 47,
   "id": "7129c5e9",
   "metadata": {},
   "outputs": [
    {
     "name": "stdout",
     "output_type": "stream",
     "text": [
      "Hello\n"
     ]
    }
   ],
   "source": [
    "def hello():\n",
    "    print(\"Hello\")\n",
    "hello()"
   ]
  },
  {
   "cell_type": "code",
   "execution_count": 2,
   "id": "9d39c2e0",
   "metadata": {},
   "outputs": [
    {
     "name": "stdout",
     "output_type": "stream",
     "text": [
      "Enter any number:3\n",
      "Enter any number:4\n",
      "The sum of the numbers is  7\n"
     ]
    }
   ],
   "source": [
    "#write one function add that will return the sum of the two numbers\n",
    "def add(a,b):\n",
    "    return a+b\n",
    "s=int(input(\"Enter any number:\"))\n",
    "s1=int(input(\"Enter any number:\"))\n",
    "print(\"The sum of the numbers is \",add(s,s1))"
   ]
  },
  {
   "cell_type": "code",
   "execution_count": 9,
   "id": "e652fe58",
   "metadata": {},
   "outputs": [
    {
     "name": "stdout",
     "output_type": "stream",
     "text": [
      "(17, -1, 72, 0.8888888888888888)\n",
      "<class 'tuple'>\n",
      "5 -1 6\n"
     ]
    }
   ],
   "source": [
    "#wap for calculator function\n",
    "def calc(x,y):\n",
    "        a=x+y\n",
    "        b=x-y\n",
    "        c=x*y\n",
    "        d=x/y\n",
    "        return (a,b,c,d)\n",
    "print(calc(8,9))\n",
    "print(type(calc(8,9)))\n",
    "p,q,r,s=calc(2,3)\n",
    "print(p,q,r)"
   ]
  },
  {
   "cell_type": "code",
   "execution_count": 2,
   "id": "f766cb9e",
   "metadata": {},
   "outputs": [
    {
     "name": "stdout",
     "output_type": "stream",
     "text": [
      "Enter the numbers: 1 2 3 4 5 \n",
      "('5', '1')\n"
     ]
    }
   ],
   "source": [
    "# Write a function to find the maximum and minimum numbers from a sequence of numbers.\n",
    "def max_min(s):\n",
    "    return max(s),min(s)\n",
    "s=input(\"Enter the numbers: \").split()\n",
    "print(max_min(s))"
   ]
  },
  {
   "cell_type": "code",
   "execution_count": 9,
   "id": "f41f5c6f",
   "metadata": {},
   "outputs": [
    {
     "name": "stdout",
     "output_type": "stream",
     "text": [
      "1 2 3 4 5 5 5 3 \n",
      "('1', '2', '3', '4', '5', '5', '5', '3')\n"
     ]
    },
    {
     "ename": "ValueError",
     "evalue": "dictionary update sequence element #0 has length 1; 2 is required",
     "output_type": "error",
     "traceback": [
      "\u001b[1;31m---------------------------------------------------------------------------\u001b[0m",
      "\u001b[1;31mValueError\u001b[0m                                Traceback (most recent call last)",
      "Cell \u001b[1;32mIn[9], line 6\u001b[0m\n\u001b[0;32m      4\u001b[0m t\u001b[38;5;241m=\u001b[39m\u001b[38;5;28mtuple\u001b[39m(s)\n\u001b[0;32m      5\u001b[0m \u001b[38;5;28mprint\u001b[39m(t)\n\u001b[1;32m----> 6\u001b[0m d\u001b[38;5;241m=\u001b[39m\u001b[38;5;28mdict\u001b[39m(t)\n\u001b[0;32m      7\u001b[0m \u001b[38;5;28;01mfor\u001b[39;00m i \u001b[38;5;129;01min\u001b[39;00m t:\n\u001b[0;32m      8\u001b[0m     d[i]\u001b[38;5;241m=\u001b[39md\u001b[38;5;241m.\u001b[39mget(i,\u001b[38;5;241m0\u001b[39m)\u001b[38;5;241m+\u001b[39m\u001b[38;5;241m1\u001b[39m\n",
      "\u001b[1;31mValueError\u001b[0m: dictionary update sequence element #0 has length 1; 2 is required"
     ]
    }
   ],
   "source": [
    "#Write a binary search function which searches an item in a sorted list. \n",
    "#Function should return the index of element to be searched in the list.\n",
    "s=input(\"Enter the items\").split()\n",
    "s.sort()\n",
    "D={s}\n",
    "a=input(\"Enter the element to search \")\n",
    "b=\n",
    "print(\"The index of the searched element is %s\"%)"
   ]
  },
  {
   "cell_type": "code",
   "execution_count": 13,
   "id": "e878f5c0",
   "metadata": {},
   "outputs": [
    {
     "name": "stdout",
     "output_type": "stream",
     "text": [
      "1 22 3 4 5 8 6 5\n",
      "('1', '22', '3', '4', '5', '8', '6', '5')\n",
      "{'1': 1, '22': 1, '3': 1, '4': 1, '5': 2, '8': 1, '6': 1}\n"
     ]
    }
   ],
   "source": [
    "#Write a function which takes a tuple of integer’s values \n",
    "#and return a dictionary who’s each item is a pair of integer’s values and its frequency.\n",
    "def fun(s):\n",
    "    d={}\n",
    "    for i in s:\n",
    "        if i in d:\n",
    "            d[i]+=1\n",
    "        else:\n",
    "            d[i]=1\n",
    "    return d\n",
    "s=input().split()\n",
    "t=tuple(s)\n",
    "print(t)\n",
    "d=list(t)\n",
    "print(fun(d))"
   ]
  },
  {
   "cell_type": "code",
   "execution_count": 21,
   "id": "245f8e3d",
   "metadata": {},
   "outputs": [
    {
     "name": "stdout",
     "output_type": "stream",
     "text": [
      "Enter the range10\n",
      "[0, 1, 3, 6, 10, 15, 21, 28, 36, 45]\n"
     ]
    }
   ],
   "source": [
    "#Write a function to generate Fibonacci series for the number input by user. (note implement without recursion)\n",
    "def fib(n):\n",
    "    l=[]\n",
    "    for i in range(0,n):\n",
    "        if i!=0:\n",
    "            i=i+l[i-1]\n",
    "            l.append(i)\n",
    "        else:\n",
    "            l.append(i)\n",
    "    return (l)\n",
    "s=int(input(\"Enter the range\"))\n",
    "l=fib(s)\n",
    "print(l)"
   ]
  },
  {
   "cell_type": "code",
   "execution_count": 23,
   "id": "9c4d8ace",
   "metadata": {},
   "outputs": [
    {
     "name": "stdout",
     "output_type": "stream",
     "text": [
      "Enter the range for the fibonacci series:10\n",
      "[0, 1, 3, 6, 10, 15, 21, 28, 36, 45]\n"
     ]
    }
   ],
   "source": [
    "def fibs(n):\n",
    "    a,b=0,1\n",
    "    if n!=1:\n",
    "        print(a)\n",
    "        print(b)\n",
    "        for i in range(2,n):\n",
    "            c=a+b\n",
    "            a=b\n",
    "            b=c\n",
    "            print(c)\n",
    "    else:\n",
    "        print(a)\n",
    "    \n",
    "s=int(input(\"Enter the range for the fibonacci series:\"))\n",
    "print(fib(s))"
   ]
  },
  {
   "cell_type": "code",
   "execution_count": 24,
   "id": "7ab00ddf",
   "metadata": {},
   "outputs": [
    {
     "name": "stdout",
     "output_type": "stream",
     "text": [
      "100\n"
     ]
    }
   ],
   "source": [
    "#types of arguments\n",
    "#types of arg in python\n",
    "# #positional \n",
    "#keyword\n",
    "#default\n",
    "#variable length\n",
    "\n",
    "\n",
    "def sub(a,b):\n",
    "    return a-b\n",
    "print(sub(200,100))"
   ]
  },
  {
   "cell_type": "code",
   "execution_count": 32,
   "id": "cb9718ec",
   "metadata": {},
   "outputs": [
    {
     "name": "stdout",
     "output_type": "stream",
     "text": [
      "hello chirag,how r u?\n",
      "hello chirag,how r u?\n",
      "hello chirag,how r u?\n"
     ]
    }
   ],
   "source": [
    "#keyword\n",
    "def wish(name,msg):\n",
    "    print(f\"hello {name},{msg}\")\n",
    "wish(\"chirag\",\"how r u?\")\n",
    "wish(msg=\"how r u?\",name=\"chirag\")\n",
    "wish(\"chirag\",msg='how r u?',)"
   ]
  },
  {
   "cell_type": "code",
   "execution_count": 33,
   "id": "d023cd4d",
   "metadata": {},
   "outputs": [
    {
     "name": "stdout",
     "output_type": "stream",
     "text": [
      "hello chirag\n"
     ]
    }
   ],
   "source": [
    "#default argument\n",
    "def wish(name='chirag'):\n",
    "    print(f\"hello {name}\")\n",
    "wish()\n"
   ]
  },
  {
   "cell_type": "code",
   "execution_count": 35,
   "id": "71dc7a9a",
   "metadata": {},
   "outputs": [
    {
     "data": {
      "text/plain": [
       "['__class__',\n",
       " '__delattr__',\n",
       " '__dir__',\n",
       " '__doc__',\n",
       " '__eq__',\n",
       " '__format__',\n",
       " '__ge__',\n",
       " '__getattribute__',\n",
       " '__getstate__',\n",
       " '__gt__',\n",
       " '__hash__',\n",
       " '__init__',\n",
       " '__init_subclass__',\n",
       " '__le__',\n",
       " '__lt__',\n",
       " '__ne__',\n",
       " '__new__',\n",
       " '__reduce__',\n",
       " '__reduce_ex__',\n",
       " '__repr__',\n",
       " '__setattr__',\n",
       " '__sizeof__',\n",
       " '__str__',\n",
       " '__subclasshook__']"
      ]
     },
     "execution_count": 35,
     "metadata": {},
     "output_type": "execute_result"
    }
   ],
   "source": [
    "dir(object)"
   ]
  },
  {
   "cell_type": "code",
   "execution_count": 36,
   "id": "a9699285",
   "metadata": {
    "collapsed": true,
    "jupyter": {
     "outputs_hidden": true
    }
   },
   "outputs": [
    {
     "data": {
      "text/plain": [
       "21"
      ]
     },
     "execution_count": 36,
     "metadata": {},
     "output_type": "execute_result"
    }
   ],
   "source": [
    "def sum(l):\n",
    "    sum=0\n",
    "    for i in l:\n",
    "        sum+=i\n",
    "    return(sum)\n",
    "sum([1,2,3,4,5,6])"
   ]
  },
  {
   "cell_type": "code",
   "execution_count": 39,
   "id": "c4a480a8",
   "metadata": {},
   "outputs": [
    {
     "name": "stdout",
     "output_type": "stream",
     "text": [
      "<class 'tuple'>\n",
      "(1, 2, 3)\n",
      "6\n"
     ]
    }
   ],
   "source": [
    "#variable length\n",
    "# '*' is used to represent the variable length \n",
    "def f1(*n):\n",
    "    print(type(n))\n",
    "    print(n)\n",
    "    sum=0\n",
    "    for i in n:\n",
    "        sum+=i\n",
    "    return(sum)\n",
    "print(f1(1,2,3))"
   ]
  },
  {
   "cell_type": "code",
   "execution_count": 40,
   "id": "f27942f0",
   "metadata": {},
   "outputs": [
    {
     "name": "stdout",
     "output_type": "stream",
     "text": [
      "{'name': 'chirag', 'surname': 'dewangan', 'son': 'ashu'}\n",
      "<class 'dict'>\n"
     ]
    }
   ],
   "source": [
    "#keyword variable length argument\n",
    "def f1(**n):\n",
    "    print(n)\n",
    "    print(type(n))\n",
    "f1(name='chirag',surname='dewangan',son='ashu')"
   ]
  },
  {
   "cell_type": "code",
   "execution_count": 1,
   "id": "edc13ee8",
   "metadata": {},
   "outputs": [
    {
     "name": "stdout",
     "output_type": "stream",
     "text": [
      "Enter a list1,2,3,4,5\n",
      "Enter another list3,4,5,6,7\n"
     ]
    }
   ],
   "source": [
    "l1=[input(\"Enter a list\")]\n",
    "l2=[input(\"Enter another list\")]"
   ]
  },
  {
   "cell_type": "code",
   "execution_count": 2,
   "id": "9987fbee",
   "metadata": {},
   "outputs": [
    {
     "name": "stdout",
     "output_type": "stream",
     "text": [
      "<class 'list'>\n",
      "<class 'list'>\n"
     ]
    }
   ],
   "source": [
    "print(type(l1))\n",
    "print(type(l2))"
   ]
  },
  {
   "cell_type": "code",
   "execution_count": 5,
   "id": "bc9e48ed",
   "metadata": {},
   "outputs": [
    {
     "name": "stdout",
     "output_type": "stream",
     "text": [
      "10\n",
      "10\n"
     ]
    }
   ],
   "source": [
    "#Types of variables\n",
    "#On the basis of scope \n",
    "#local\n",
    "#global\n",
    "a=10 #Global variable\n",
    "def f1():\n",
    "    print(a)\n",
    "def f2():\n",
    "    print(a)\n",
    "f1()\n",
    "f2()"
   ]
  },
  {
   "cell_type": "code",
   "execution_count": 6,
   "id": "dc7a0d14",
   "metadata": {},
   "outputs": [
    {
     "name": "stdout",
     "output_type": "stream",
     "text": [
      "100\n",
      "10\n"
     ]
    }
   ],
   "source": [
    "def f1():\n",
    "    a=100  #local variable\n",
    "    print(a)\n",
    "def f2():\n",
    "    print(a)\n",
    "f1()\n",
    "f2()"
   ]
  },
  {
   "cell_type": "code",
   "execution_count": 7,
   "id": "d1fdf051",
   "metadata": {},
   "outputs": [
    {
     "name": "stdout",
     "output_type": "stream",
     "text": [
      "100\n",
      "100\n"
     ]
    }
   ],
   "source": [
    "#global keyword\n",
    "a=10\n",
    "def f1():\n",
    "    global a\n",
    "    a=100  #local variable\n",
    "    print(a)\n",
    "def f2():\n",
    "    print(a)\n",
    "f1()\n",
    "f2()"
   ]
  },
  {
   "cell_type": "code",
   "execution_count": 9,
   "id": "7762180e",
   "metadata": {},
   "outputs": [
    {
     "name": "stdout",
     "output_type": "stream",
     "text": [
      "100\n"
     ]
    }
   ],
   "source": [
    "print(globals()['a'])"
   ]
  },
  {
   "cell_type": "code",
   "execution_count": 10,
   "id": "383147b3",
   "metadata": {},
   "outputs": [
    {
     "data": {
      "text/plain": [
       "120"
      ]
     },
     "execution_count": 10,
     "metadata": {},
     "output_type": "execute_result"
    }
   ],
   "source": [
    "# recursion function\n",
    "# factorial program\n",
    "def fact(n):\n",
    "    if n==0:\n",
    "        result=1\n",
    "    else:\n",
    "        result=n*fact(n-1)\n",
    "    return(result)\n",
    "fact(5)"
   ]
  },
  {
   "cell_type": "code",
   "execution_count": 3,
   "id": "6f778cef",
   "metadata": {},
   "outputs": [
    {
     "name": "stdout",
     "output_type": "stream",
     "text": [
      "[1,2,[3,4,[5,6]],7,8,[9,[10]]]\n",
      "[1, 2, 3, 4, 5, 6, 7, 8, 9, 10]\n"
     ]
    }
   ],
   "source": [
    "#Wap to flat a nested list\n",
    "#Input:[1,2,[3,4,[5,6]],7,8,[9,[10]]]\n",
    "#output:[1,2,3,4,5,6,7,8,9,10]\n",
    "#by using recursion\n",
    "out=[]\n",
    "def removenesting(l):\n",
    "    for i in l:\n",
    "        if type(i)==list:\n",
    "            removenesting(i)\n",
    "        else:\n",
    "            out.append(i)\n",
    "l=eval(input())\n",
    "removenesting(l)\n",
    "print(out)"
   ]
  },
  {
   "cell_type": "code",
   "execution_count": 1,
   "id": "e0a320f2",
   "metadata": {},
   "outputs": [
    {
     "name": "stdout",
     "output_type": "stream",
     "text": [
      "4\n"
     ]
    }
   ],
   "source": [
    "#pyhton on concept to increase the readability of code\n",
    "#nameless function or anonymous funtion,lambda function\n",
    "x=lambda n:n*n\n",
    "print(x(2))"
   ]
  },
  {
   "cell_type": "code",
   "execution_count": 3,
   "id": "777a87f4",
   "metadata": {},
   "outputs": [
    {
     "data": {
      "text/plain": [
       "['BINARY_OP',\n",
       " 'Bytecode',\n",
       " 'CACHE',\n",
       " 'COMPILER_FLAG_NAMES',\n",
       " 'EXTENDED_ARG',\n",
       " 'FORMAT_VALUE',\n",
       " 'FORMAT_VALUE_CONVERTERS',\n",
       " 'HAVE_ARGUMENT',\n",
       " 'Instruction',\n",
       " 'JUMP_BACKWARD',\n",
       " 'LOAD_CONST',\n",
       " 'LOAD_GLOBAL',\n",
       " 'MAKE_FUNCTION',\n",
       " 'MAKE_FUNCTION_FLAGS',\n",
       " 'Positions',\n",
       " 'UNKNOWN',\n",
       " '_ExceptionTableEntry',\n",
       " '_INT_BITS',\n",
       " '_INT_OVERFLOW',\n",
       " '_Instruction',\n",
       " '_OPARG_WIDTH',\n",
       " '_OPNAME_WIDTH',\n",
       " '_Unknown',\n",
       " '__all__',\n",
       " '__builtins__',\n",
       " '__cached__',\n",
       " '__doc__',\n",
       " '__file__',\n",
       " '__loader__',\n",
       " '__name__',\n",
       " '__package__',\n",
       " '__spec__',\n",
       " '_all_opmap',\n",
       " '_all_opname',\n",
       " '_cache_format',\n",
       " '_deoptop',\n",
       " '_disassemble_bytes',\n",
       " '_disassemble_recursive',\n",
       " '_disassemble_str',\n",
       " '_empty_slot',\n",
       " '_find_imports',\n",
       " '_find_store_names',\n",
       " '_format_code_info',\n",
       " '_get_code_array',\n",
       " '_get_code_object',\n",
       " '_get_const_info',\n",
       " '_get_const_value',\n",
       " '_get_instructions_bytes',\n",
       " '_get_name_info',\n",
       " '_have_code',\n",
       " '_inline_cache_entries',\n",
       " '_is_backward_jump',\n",
       " '_nb_ops',\n",
       " '_parse_exception_table',\n",
       " '_parse_varint',\n",
       " '_specializations',\n",
       " '_specialized_instructions',\n",
       " '_test',\n",
       " '_try_compile',\n",
       " '_unpack_opargs',\n",
       " 'cmp_op',\n",
       " 'code_info',\n",
       " 'collections',\n",
       " 'deoptmap',\n",
       " 'dis',\n",
       " 'disassemble',\n",
       " 'disco',\n",
       " 'distb',\n",
       " 'findlabels',\n",
       " 'findlinestarts',\n",
       " 'get_instructions',\n",
       " 'hascompare',\n",
       " 'hasconst',\n",
       " 'hasfree',\n",
       " 'hasjabs',\n",
       " 'hasjrel',\n",
       " 'haslocal',\n",
       " 'hasname',\n",
       " 'hasnargs',\n",
       " 'io',\n",
       " 'opmap',\n",
       " 'opname',\n",
       " 'pretty_flags',\n",
       " 'show_code',\n",
       " 'spec_op',\n",
       " 'specialized',\n",
       " 'stack_effect',\n",
       " 'sys',\n",
       " 'types']"
      ]
     },
     "execution_count": 3,
     "metadata": {},
     "output_type": "execute_result"
    }
   ],
   "source": [
    "import dis \n",
    "dir(dis)"
   ]
  },
  {
   "cell_type": "code",
   "execution_count": 5,
   "id": "92cd027b",
   "metadata": {},
   "outputs": [
    {
     "name": "stdout",
     "output_type": "stream",
     "text": [
      "3456\n",
      "6\n"
     ]
    }
   ],
   "source": [
    "#Write a lambda function to find the biggest of the given value\n",
    "x=lambda n:max(n)\n",
    "a=input()\n",
    "print(x(a))"
   ]
  },
  {
   "cell_type": "code",
   "execution_count": 6,
   "id": "36bfce03",
   "metadata": {},
   "outputs": [
    {
     "data": {
      "text/plain": [
       "5"
      ]
     },
     "execution_count": 6,
     "metadata": {},
     "output_type": "execute_result"
    }
   ],
   "source": [
    "s=lambda a,b,c:a if a>b and a>c else b if b>c else c\n",
    "s(2,5,4)"
   ]
  },
  {
   "cell_type": "code",
   "execution_count": 7,
   "id": "728afa9b",
   "metadata": {},
   "outputs": [
    {
     "data": {
      "text/plain": [
       "5"
      ]
     },
     "execution_count": 7,
     "metadata": {},
     "output_type": "execute_result"
    }
   ],
   "source": [
    "s=lambda *n:max(n)\n",
    "s(2,5,4)"
   ]
  },
  {
   "cell_type": "code",
   "execution_count": 8,
   "id": "ea3244fc",
   "metadata": {},
   "outputs": [
    {
     "name": "stdout",
     "output_type": "stream",
     "text": [
      "[2, 4, 6, 8, 0]\n"
     ]
    }
   ],
   "source": [
    "#filter \n",
    "#map \n",
    "#reduce\n",
    "def even(x):\n",
    "    if x%2==0:\n",
    "        return True\n",
    "    else:\n",
    "        return False\n",
    "l=[1,2,3,4,5,6,7,8,9,0]\n",
    "l1=[]\n",
    "for i in l:\n",
    "    if even(i):\n",
    "        l1.append(i)\n",
    "print(l1)"
   ]
  },
  {
   "cell_type": "code",
   "execution_count": 12,
   "id": "6b4ad548",
   "metadata": {},
   "outputs": [
    {
     "name": "stdout",
     "output_type": "stream",
     "text": [
      "[2, 4, 6, 8, 0]\n"
     ]
    }
   ],
   "source": [
    "#filter function\n",
    "#filter(functionidentifier,sequence)\n",
    "x=list(filter(even,l))\n",
    "print(x)"
   ]
  },
  {
   "cell_type": "code",
   "execution_count": 14,
   "id": "9866e4c6",
   "metadata": {},
   "outputs": [
    {
     "name": "stdout",
     "output_type": "stream",
     "text": [
      "[2, 4, 6, 8, 0]\n"
     ]
    }
   ],
   "source": [
    "y=lambda n:n%2==0\n",
    "a=list(filter(y,l))\n",
    "print(a)"
   ]
  },
  {
   "cell_type": "code",
   "execution_count": 16,
   "id": "63023a20",
   "metadata": {},
   "outputs": [
    {
     "name": "stdout",
     "output_type": "stream",
     "text": [
      "[2, 4, 6, 8]\n"
     ]
    }
   ],
   "source": [
    "s=lambda *x:list(filter(lambda y:y%2==0,x))\n",
    "print(s(1,2,3,4,5,6,8))"
   ]
  },
  {
   "cell_type": "code",
   "execution_count": 17,
   "id": "fc4934e5",
   "metadata": {},
   "outputs": [
    {
     "name": "stdout",
     "output_type": "stream",
     "text": [
      "[2, 4, 6, 8, 10, 12, 14, 16]\n"
     ]
    }
   ],
   "source": [
    "#map function\n",
    "l=[1,2,3,4,5,6,7,8]\n",
    "s=lambda x:x*2\n",
    "lst=list(map(s,l))\n",
    "print(lst)"
   ]
  },
  {
   "cell_type": "code",
   "execution_count": 18,
   "id": "045828bb",
   "metadata": {},
   "outputs": [
    {
     "name": "stdout",
     "output_type": "stream",
     "text": [
      "data1,2,3,4,5\n",
      "[1, 2, 3, 4, 5]\n"
     ]
    }
   ],
   "source": [
    "x=list(map(int,input(\"data\").split(\",\")))\n",
    "print(x)"
   ]
  },
  {
   "cell_type": "code",
   "execution_count": 19,
   "id": "ccdbc8c7",
   "metadata": {},
   "outputs": [
    {
     "name": "stdout",
     "output_type": "stream",
     "text": [
      "data1,2,3,4,5\n",
      "[1, 2, 3, 4, 5]\n"
     ]
    }
   ],
   "source": [
    "#write a mapper function to find type of given in a string\n",
    "x=list(map(eval,input(\"data\").split(\",\")))\n",
    "print(x)"
   ]
  },
  {
   "cell_type": "code",
   "execution_count": 23,
   "id": "99ae56ce",
   "metadata": {},
   "outputs": [
    {
     "name": "stdout",
     "output_type": "stream",
     "text": [
      "Enter the data:seth ji ky kr rhe ho aap\n",
      "['seth', 'ji', 'ky', 'kr', 'ho']\n"
     ]
    }
   ],
   "source": [
    "#WAP to filter out the even length strings from given tuple of strings\n",
    "l=(input(\"Enter the data:\").split())\n",
    "print(list(filter(lambda x:len(x)%2==0,l)))"
   ]
  },
  {
   "cell_type": "code",
   "execution_count": 25,
   "id": "a8229b1f",
   "metadata": {},
   "outputs": [
    {
     "name": "stdout",
     "output_type": "stream",
     "text": [
      "45\n"
     ]
    }
   ],
   "source": [
    "#reduce function\n",
    "# functools\n",
    "from functools import reduce\n",
    "result=reduce(lambda x,y:x+y,range(1,10))\n",
    "print(result)\n"
   ]
  },
  {
   "cell_type": "code",
   "execution_count": 29,
   "id": "4a0af159",
   "metadata": {},
   "outputs": [
    {
     "name": "stdout",
     "output_type": "stream",
     "text": [
      "hello\n",
      "<class 'function'>\n",
      "<class 'function'>\n"
     ]
    }
   ],
   "source": [
    "#function aliasing\n",
    "def hello():\n",
    "    print(\"hello\")\n",
    "s=hello\n",
    "s()\n",
    "print(type(s))\n",
    "print(type(hello))"
   ]
  },
  {
   "cell_type": "code",
   "execution_count": 30,
   "id": "54b63766",
   "metadata": {},
   "outputs": [
    {
     "name": "stdout",
     "output_type": "stream",
     "text": [
      "this is inner function\n",
      "None\n"
     ]
    }
   ],
   "source": [
    "#nested function\n",
    "#abstraction function level\n",
    "\n",
    "#hide something\n",
    "def outer():\n",
    "    def inner():\n",
    "        print(\"this is inner function\")\n",
    "    return inner\n",
    "print(outer()())"
   ]
  },
  {
   "cell_type": "code",
   "execution_count": 31,
   "id": "71196018",
   "metadata": {},
   "outputs": [
    {
     "name": "stdout",
     "output_type": "stream",
     "text": [
      "this is inner function\n"
     ]
    }
   ],
   "source": [
    "s=outer()\n",
    "s()"
   ]
  },
  {
   "cell_type": "code",
   "execution_count": 33,
   "id": "a6fb92e7",
   "metadata": {},
   "outputs": [
    {
     "name": "stdout",
     "output_type": "stream",
     "text": [
      "this is inner function\n",
      "this is inner1\n"
     ]
    }
   ],
   "source": [
    "def outer():\n",
    "    def inner():\n",
    "        print(\"this is inner function\")\n",
    "    def inner1():\n",
    "        print(\"this is inner1\")\n",
    "    return(inner,inner1)\n",
    "s=outer()\n",
    "for i in s:\n",
    "    i()"
   ]
  },
  {
   "cell_type": "code",
   "execution_count": 34,
   "id": "b6c6160b",
   "metadata": {},
   "outputs": [
    {
     "name": "stdout",
     "output_type": "stream",
     "text": [
      "this is inner function\n"
     ]
    }
   ],
   "source": [
    "outer()[0]()"
   ]
  },
  {
   "cell_type": "code",
   "execution_count": 38,
   "id": "ab7c7e05",
   "metadata": {},
   "outputs": [
    {
     "name": "stdout",
     "output_type": "stream",
     "text": [
      "Sakshat Dandwat\n"
     ]
    }
   ],
   "source": [
    "#Decorator function\n",
    "def decor(hello):\n",
    "    def inner(situation):\n",
    "        if situation==\"Bacha lo\":\n",
    "            print(\"Sakshat Dandwat\")\n",
    "        else:\n",
    "            hello(situation)\n",
    "    return(inner)\n",
    "@decor\n",
    "def hello(situation):\n",
    "    print(\"namaste\",situation)\n",
    "hello(\"Bacha lo\")"
   ]
  },
  {
   "cell_type": "code",
   "execution_count": 12,
   "id": "1083b37c",
   "metadata": {},
   "outputs": [
    {
     "name": "stdout",
     "output_type": "stream",
     "text": [
      "400\n"
     ]
    }
   ],
   "source": [
    "def decor1(func):\n",
    "    def inner():\n",
    "        x=func()\n",
    "        return(x*x)\n",
    "    return(inner)\n",
    "\n",
    "def decor(func):\n",
    "    def inner():\n",
    "        x=func()\n",
    "        return(2*x)\n",
    "    return inner\n",
    "\n",
    "@decor1\n",
    "@decor\n",
    "def num():\n",
    "    return(10)\n",
    "print(num())"
   ]
  },
  {
   "cell_type": "code",
   "execution_count": 13,
   "id": "fceeb0f1",
   "metadata": {},
   "outputs": [
    {
     "name": "stdout",
     "output_type": "stream",
     "text": [
      "200\n"
     ]
    }
   ],
   "source": [
    "def decor1(func):\n",
    "    def inner():\n",
    "        x=func()\n",
    "        return(x*x)\n",
    "    return(inner)\n",
    "\n",
    "def decor(func):\n",
    "    def inner():\n",
    "        x=func()\n",
    "        return(2*x)\n",
    "    return inner\n",
    "@decor\n",
    "@decor1\n",
    "def num():\n",
    "    return(10)\n",
    "print(num())"
   ]
  },
  {
   "cell_type": "code",
   "execution_count": 20,
   "id": "a2f78475",
   "metadata": {},
   "outputs": [
    {
     "name": "stdout",
     "output_type": "stream",
     "text": [
      "<class 'function'>\n",
      "a\n",
      "b\n",
      "c\n"
     ]
    }
   ],
   "source": [
    "#generator function\n",
    "#it uses yield keyword\n",
    "def mygen():\n",
    "    yield 'a'\n",
    "    yield 'b'\n",
    "    yield 'c'\n",
    "print(type(mygen))\n",
    "g=mygen()\n",
    "print(next(g))\n",
    "print(next(g))\n",
    "print(next(g))"
   ]
  },
  {
   "cell_type": "code",
   "execution_count": null,
   "id": "772059a1",
   "metadata": {},
   "outputs": [],
   "source": [
    "l=[x*x for x in range(1000000000000000000000000000)]\n",
    "print(l)"
   ]
  },
  {
   "cell_type": "code",
   "execution_count": 11,
   "id": "25579ae4",
   "metadata": {},
   "outputs": [
    {
     "data": {
      "text/plain": [
       "[{'id': 0, 'name': 'rahul', 'subjects': 'english'},\n",
       " {'id': 1, 'name': 'gaurang', 'subjects': 'english'},\n",
       " {'id': 2, 'name': 'rahul', 'subjects': 'science'},\n",
       " {'id': 3, 'name': 'rahul', 'subjects': 'science'},\n",
       " {'id': 4, 'name': 'vasu', 'subjects': 'maths'},\n",
       " {'id': 5, 'name': 'gaurang', 'subjects': 'english'},\n",
       " {'id': 6, 'name': 'gaurang', 'subjects': 'hidni'},\n",
       " {'id': 7, 'name': 'vasu', 'subjects': 'maths'},\n",
       " {'id': 8, 'name': 'rahul', 'subjects': 'english'},\n",
       " {'id': 9, 'name': 'divyanshu', 'subjects': 'maths'}]"
      ]
     },
     "execution_count": 11,
     "metadata": {},
     "output_type": "execute_result"
    }
   ],
   "source": [
    "#fake data generation\n",
    "import random,time\n",
    "names=['rahul','vasu','gaurang','divyanshu','ayush']\n",
    "subjects=['hidni','english','maths','science']\n",
    "def peop_list(num):\n",
    "    result=[]\n",
    "    for i in range(num):\n",
    "        person={'id':i,\"name\":random.choice(names),\"subjects\":random.choice(subjects)}\n",
    "        result.append(person)\n",
    "    return(result)\n",
    "def peop_gen(num):\n",
    "    for i in range(num):\n",
    "        person={'id':i,\"name\":random.choice(names),\"subjects\":random.choice(subjects)}\n",
    "        result.append(person)\n",
    "        yield result\n",
    "    return(result)\n",
    "peop_list(10)"
   ]
  },
  {
   "cell_type": "code",
   "execution_count": 12,
   "id": "933597e9",
   "metadata": {},
   "outputs": [
    {
     "ename": "AttributeError",
     "evalue": "module 'time' has no attribute 'clock'",
     "output_type": "error",
     "traceback": [
      "\u001b[1;31m---------------------------------------------------------------------------\u001b[0m",
      "\u001b[1;31mAttributeError\u001b[0m                            Traceback (most recent call last)",
      "Cell \u001b[1;32mIn[12], line 16\u001b[0m\n\u001b[0;32m     14\u001b[0m         \u001b[38;5;28;01myield\u001b[39;00m result\n\u001b[0;32m     15\u001b[0m     \u001b[38;5;28;01mreturn\u001b[39;00m(result)\n\u001b[1;32m---> 16\u001b[0m t1\u001b[38;5;241m=\u001b[39mtime\u001b[38;5;241m.\u001b[39mclock()\n\u001b[0;32m     17\u001b[0m peop_list(\u001b[38;5;241m10\u001b[39m)\n\u001b[0;32m     18\u001b[0m t2\u001b[38;5;241m=\u001b[39mtime\u001b[38;5;241m.\u001b[39mclock()\n",
      "\u001b[1;31mAttributeError\u001b[0m: module 'time' has no attribute 'clock'"
     ]
    }
   ],
   "source": [
    "import random,time\n",
    "names=['rahul','vasu','gaurang','divyanshu','ayush']\n",
    "subjects=['hidni','english','maths','science']\n",
    "def peop_list(num):\n",
    "    result=[]\n",
    "    for i in range(num):\n",
    "        person={'id':i,\"name\":random.choice(names),\"subjects\":random.choice(subjects)}\n",
    "        result.append(person)\n",
    "    return(result)\n",
    "def peop_gen(num):\n",
    "    for i in range(num):\n",
    "        person={'id':i,\"name\":random.choice(names),\"subjects\":random.choice(subjects)}\n",
    "        result.append(person)\n",
    "        yield result\n",
    "    return(result)\n",
    "t1=time.clock()\n",
    "peop_list(10)\n",
    "t2=time.clock()\n",
    "print(\"time take by normal:\",t2-t1)\n",
    "t3=time.clock()\n",
    "peop_gen(10)\n",
    "t4=time.clock()\n",
    "print(\"time take by generator function:\",t4-t3)"
   ]
  },
  {
   "cell_type": "code",
   "execution_count": 1,
   "id": "49c5b0e1",
   "metadata": {},
   "outputs": [
    {
     "ename": "NameError",
     "evalue": "name 'pwd' is not defined",
     "output_type": "error",
     "traceback": [
      "\u001b[1;31m---------------------------------------------------------------------------\u001b[0m",
      "\u001b[1;31mNameError\u001b[0m                                 Traceback (most recent call last)",
      "Cell \u001b[1;32mIn[1], line 3\u001b[0m\n\u001b[0;32m      1\u001b[0m \u001b[38;5;66;03m# Module\u001b[39;00m\n\u001b[0;32m      2\u001b[0m \u001b[38;5;66;03m# It is nothing more then .py file\u001b[39;00m\n\u001b[1;32m----> 3\u001b[0m pwd\n",
      "\u001b[1;31mNameError\u001b[0m: name 'pwd' is not defined"
     ]
    }
   ],
   "source": [
    "# Module\n",
    "# It is nothing more then .py file\n",
    "pwd"
   ]
  },
  {
   "cell_type": "code",
   "execution_count": 2,
   "id": "5e358728",
   "metadata": {},
   "outputs": [
    {
     "data": {
      "text/plain": [
       "'C:\\\\Users\\\\chira\\\\Python Training'"
      ]
     },
     "execution_count": 2,
     "metadata": {},
     "output_type": "execute_result"
    }
   ],
   "source": [
    "pwd"
   ]
  },
  {
   "cell_type": "code",
   "execution_count": 3,
   "id": "203355aa",
   "metadata": {},
   "outputs": [],
   "source": [
    "def add(a,b):\n",
    "    print(\"The sum of the numbers is \",a+b)\n",
    "def prod(a,b):\n",
    "    print(\"The product of the numbers is \",a*b)\n"
   ]
  },
  {
   "cell_type": "code",
   "execution_count": 7,
   "id": "62dcb9f5",
   "metadata": {},
   "outputs": [],
   "source": [
    "import moduleDemo"
   ]
  },
  {
   "cell_type": "code",
   "execution_count": 8,
   "id": "5780ac9c",
   "metadata": {},
   "outputs": [
    {
     "name": "stdout",
     "output_type": "stream",
     "text": [
      "The sum of the numbers is  13\n"
     ]
    }
   ],
   "source": [
    "moduleDemo.add(6,7)"
   ]
  },
  {
   "cell_type": "code",
   "execution_count": 10,
   "id": "4b6ecf85",
   "metadata": {
    "scrolled": true
   },
   "outputs": [
    {
     "name": "stdout",
     "output_type": "stream",
     "text": [
      "The product of the number is  42\n"
     ]
    }
   ],
   "source": [
    "moduleDemo.prod(6,7)"
   ]
  },
  {
   "cell_type": "code",
   "execution_count": 11,
   "id": "cb9a5d8e",
   "metadata": {},
   "outputs": [
    {
     "data": {
      "text/plain": [
       "['__builtins__',\n",
       " '__cached__',\n",
       " '__doc__',\n",
       " '__file__',\n",
       " '__loader__',\n",
       " '__name__',\n",
       " '__package__',\n",
       " '__spec__',\n",
       " 'add',\n",
       " 'prod']"
      ]
     },
     "execution_count": 11,
     "metadata": {},
     "output_type": "execute_result"
    }
   ],
   "source": [
    "dir(moduleDemo)"
   ]
  },
  {
   "cell_type": "code",
   "execution_count": 12,
   "id": "4972478d",
   "metadata": {},
   "outputs": [
    {
     "name": "stdout",
     "output_type": "stream",
     "text": [
      "The sum of the numbers is  17\n"
     ]
    }
   ],
   "source": [
    "#various way to import\n",
    "import moduleDemo as m\n",
    "m.add(8,9)"
   ]
  },
  {
   "cell_type": "code",
   "execution_count": 13,
   "id": "a3196992",
   "metadata": {},
   "outputs": [
    {
     "name": "stdout",
     "output_type": "stream",
     "text": [
      "The sum of the numbers is  17\n"
     ]
    }
   ],
   "source": [
    "from moduleDemo import *\n",
    "add(8,9)"
   ]
  },
  {
   "cell_type": "code",
   "execution_count": 14,
   "id": "55e1d792",
   "metadata": {},
   "outputs": [
    {
     "name": "stdout",
     "output_type": "stream",
     "text": [
      "The sum of the numbers is  17\n",
      "The product of the number is  72\n"
     ]
    }
   ],
   "source": [
    "from moduleDemo import add,prod\n",
    "add(8,9)\n",
    "prod(8,9)"
   ]
  },
  {
   "cell_type": "code",
   "execution_count": 7,
   "id": "24cb39e9",
   "metadata": {},
   "outputs": [],
   "source": [
    "import moduleDemo as m,moduleDemo1 as m1"
   ]
  },
  {
   "cell_type": "code",
   "execution_count": 8,
   "id": "1a7745d3",
   "metadata": {},
   "outputs": [
    {
     "name": "stdout",
     "output_type": "stream",
     "text": [
      "The sum of the numbers is  19\n",
      "The subtraction of the numbers is  1\n"
     ]
    }
   ],
   "source": [
    "m.add(10,9)\n",
    "m1.sub(10,9)"
   ]
  },
  {
   "cell_type": "code",
   "execution_count": 10,
   "id": "b27d9fb5",
   "metadata": {},
   "outputs": [
    {
     "name": "stdout",
     "output_type": "stream",
     "text": [
      "The subtraction of the numbers is  -1\n"
     ]
    }
   ],
   "source": [
    "from moduleDemo1 import sub as s\n",
    "s(2,3)\n"
   ]
  },
  {
   "cell_type": "code",
   "execution_count": 1,
   "id": "ce413c3d",
   "metadata": {},
   "outputs": [
    {
     "data": {
      "text/plain": [
       "'C:\\\\Users\\\\chira\\\\Python Training'"
      ]
     },
     "execution_count": 1,
     "metadata": {},
     "output_type": "execute_result"
    }
   ],
   "source": [
    "pwd"
   ]
  },
  {
   "cell_type": "code",
   "execution_count": 9,
   "id": "240bb847",
   "metadata": {},
   "outputs": [
    {
     "ename": "ModuleNotFoundError",
     "evalue": "No module named 'Loan.Homeloan.h'",
     "output_type": "error",
     "traceback": [
      "\u001b[1;31m---------------------------------------------------------------------------\u001b[0m",
      "\u001b[1;31mModuleNotFoundError\u001b[0m                       Traceback (most recent call last)",
      "Cell \u001b[1;32mIn[9], line 1\u001b[0m\n\u001b[1;32m----> 1\u001b[0m \u001b[38;5;28;01mimport\u001b[39;00m \u001b[38;5;21;01mLoan\u001b[39;00m\u001b[38;5;21;01m.\u001b[39;00m\u001b[38;5;21;01mHomeloan\u001b[39;00m\u001b[38;5;21;01m.\u001b[39;00m\u001b[38;5;21;01mh\u001b[39;00m \u001b[38;5;28;01mas\u001b[39;00m \u001b[38;5;21;01mm\u001b[39;00m\n\u001b[0;32m      2\u001b[0m m\u001b[38;5;241m.\u001b[39mhelloname()\n",
      "\u001b[1;31mModuleNotFoundError\u001b[0m: No module named 'Loan.Homeloan.h'"
     ]
    }
   ],
   "source": [
    "import Loan.Homeloan.h as m\n",
    "m.helloname()"
   ]
  },
  {
   "cell_type": "code",
   "execution_count": null,
   "id": "8f83627a",
   "metadata": {},
   "outputs": [],
   "source": [
    "\n"
   ]
  },
  {
   "cell_type": "code",
   "execution_count": 13,
   "id": "7086f03b",
   "metadata": {},
   "outputs": [
    {
     "name": "stdout",
     "output_type": "stream",
     "text": [
      "file name ex1.txt\n",
      "file name w\n",
      "is file readable False\n",
      "is file writable True\n",
      "is file closed False\n",
      "is file closed True\n"
     ]
    }
   ],
   "source": [
    "#file handling\n",
    "#Text file\n",
    "#binary file\n",
    "#f=open(\"filename\",\"mode\")\n",
    "#mode\n",
    "#w----it uses existing file and create new one\n",
    "#overwrite the already written data\n",
    "\n",
    "f=open(\"ex1.txt\",'w')\n",
    "print(\"file name\",f.name)\n",
    "print(\"file name\",f.mode)\n",
    "print(\"is file readable\",f.readable())\n",
    "print(\"is file writable\",f.writable())\n",
    "print(\"is file closed\",f.closed)\n",
    "f.close()\n",
    "print(\"is file closed\",f.closed)"
   ]
  },
  {
   "cell_type": "code",
   "execution_count": 14,
   "id": "4eed6923",
   "metadata": {},
   "outputs": [],
   "source": [
    "f=open(\"hello.txt\",\"w\")\n",
    "f.write(\"hello\\n\")\n",
    "f.close()"
   ]
  },
  {
   "cell_type": "code",
   "execution_count": 18,
   "id": "8ca49b3a",
   "metadata": {},
   "outputs": [
    {
     "name": "stdout",
     "output_type": "stream",
     "text": [
      "Enter the data:3\n",
      "abhi \n",
      "bharat\n",
      "chiarg\n"
     ]
    }
   ],
   "source": [
    "n=int(input(\"Enter the data:\"))\n",
    "l=[]\n",
    "for i in range(n):\n",
    "    s=input()\n",
    "    l.append(s+\"\\n\")\n",
    "f=open(\"hello.txt\",\"w\")\n",
    "f.writelines(l)\n",
    "f.close()"
   ]
  },
  {
   "cell_type": "code",
   "execution_count": 37,
   "id": "583cd8ac",
   "metadata": {},
   "outputs": [
    {
     "name": "stdout",
     "output_type": "stream",
     "text": [
      "<class 'list'>\n"
     ]
    }
   ],
   "source": [
    "# r mode \n",
    "# # reading of data\n",
    "# --\n",
    "# read():read complete data from file\n",
    "# --\n",
    "#read(n): to read n charatcer from the file\n",
    "# --\n",
    "# readline():read only on line\n",
    "# --\n",
    "#readlines():to read all the lines in file\n",
    "f=open(\"hello.txt\",\"r\")\n",
    "s=f.readlines()\n",
    "print(type(s))\n",
    "f.close()"
   ]
  },
  {
   "cell_type": "code",
   "execution_count": 31,
   "id": "ed754259",
   "metadata": {},
   "outputs": [],
   "source": [
    "#append\n",
    "#a ----open the existing file for append operation\n",
    "#       ---- it do not override\n",
    "#       ---- file is not available,it will create it"
   ]
  },
  {
   "cell_type": "code",
   "execution_count": 3,
   "id": "a1028859",
   "metadata": {},
   "outputs": [
    {
     "name": "stdout",
     "output_type": "stream",
     "text": [
      "data saved successfully\n",
      "True\n"
     ]
    }
   ],
   "source": [
    "#with block\n",
    "l=[]\n",
    "with open('hello.txt','r+') as f:\n",
    "    for i in f:\n",
    "        l.append(str(i).replace(\"stupid\",\"hero\"))\n",
    "    f.truncate(0)\n",
    "    f.seek(0)\n",
    "    f.writelines(l)\n",
    "\n",
    "    print(\"data saved successfully\")\n",
    "print(f.closed)"
   ]
  },
  {
   "cell_type": "code",
   "execution_count": 19,
   "id": "6cae9705",
   "metadata": {},
   "outputs": [
    {
     "name": "stdout",
     "output_type": "stream",
     "text": [
      "Lines= 2\n",
      "words= 8\n",
      "char= 43\n"
     ]
    }
   ],
   "source": [
    "#Wap to print the number of lines,words and characters\n",
    "## present in the given file\n",
    "f=open('hello.txt','r')\n",
    "line=0\n",
    "word=0\n",
    "char=0\n",
    "for i in f:\n",
    "    line+=1\n",
    "    w=len(i.split())\n",
    "    word+=w\n",
    "    char+=len(i)\n",
    "print(\"Lines=\",line)\n",
    "print(\"words=\",word)\n",
    "print(\"char=\",char)\n",
    "f.close()"
   ]
  },
  {
   "cell_type": "code",
   "execution_count": null,
   "id": "8e949f1b",
   "metadata": {},
   "outputs": [],
   "source": []
  }
 ],
 "metadata": {
  "kernelspec": {
   "display_name": "Python 3 (ipykernel)",
   "language": "python",
   "name": "python3"
  },
  "language_info": {
   "codemirror_mode": {
    "name": "ipython",
    "version": 3
   },
   "file_extension": ".py",
   "mimetype": "text/x-python",
   "name": "python",
   "nbconvert_exporter": "python",
   "pygments_lexer": "ipython3",
   "version": "3.11.4"
  }
 },
 "nbformat": 4,
 "nbformat_minor": 5
}
