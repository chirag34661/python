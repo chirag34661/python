{
 "cells": [
  {
   "cell_type": "code",
   "execution_count": 2,
   "id": "69ad0970",
   "metadata": {},
   "outputs": [],
   "source": [
    "import phonenumbers as phn"
   ]
  },
  {
   "cell_type": "code",
   "execution_count": 8,
   "id": "37953b64",
   "metadata": {},
   "outputs": [],
   "source": [
    "from phonenumbers import geocoder as gc"
   ]
  },
  {
   "cell_type": "code",
   "execution_count": 11,
   "id": "455bfb2e",
   "metadata": {},
   "outputs": [
    {
     "name": "stdout",
     "output_type": "stream",
     "text": [
      "\n",
      "Phone Numbers Location\n",
      "\n"
     ]
    },
    {
     "ename": "AttributeError",
     "evalue": "module 'phonenumbers.geodata' has no attribute 'description_for_number'",
     "output_type": "error",
     "traceback": [
      "\u001b[1;31m---------------------------------------------------------------------------\u001b[0m",
      "\u001b[1;31mAttributeError\u001b[0m                            Traceback (most recent call last)",
      "Cell \u001b[1;32mIn[11], line 8\u001b[0m\n\u001b[0;32m      5\u001b[0m p5\u001b[38;5;241m=\u001b[39mphn\u001b[38;5;241m.\u001b[39mparse(\u001b[38;5;124m\"\u001b[39m\u001b[38;5;124m+917440343696\u001b[39m\u001b[38;5;124m\"\u001b[39m)\n\u001b[0;32m      7\u001b[0m \u001b[38;5;28mprint\u001b[39m(\u001b[38;5;124m\"\u001b[39m\u001b[38;5;130;01m\\n\u001b[39;00m\u001b[38;5;124mPhone Numbers Location\u001b[39m\u001b[38;5;130;01m\\n\u001b[39;00m\u001b[38;5;124m\"\u001b[39m)\n\u001b[1;32m----> 8\u001b[0m \u001b[38;5;28mprint\u001b[39m(gc\u001b[38;5;241m.\u001b[39mdescription_for_number(p1,\u001b[38;5;124m\"\u001b[39m\u001b[38;5;124men\u001b[39m\u001b[38;5;124m\"\u001b[39m))\n\u001b[0;32m      9\u001b[0m \u001b[38;5;28mprint\u001b[39m(gc\u001b[38;5;241m.\u001b[39mdescription_for_number(p2,\u001b[38;5;124m\"\u001b[39m\u001b[38;5;124men\u001b[39m\u001b[38;5;124m\"\u001b[39m))\n\u001b[0;32m     10\u001b[0m \u001b[38;5;28mprint\u001b[39m(gc\u001b[38;5;241m.\u001b[39mdescription_for_number(p3,\u001b[38;5;124m\"\u001b[39m\u001b[38;5;124men\u001b[39m\u001b[38;5;124m\"\u001b[39m))\n",
      "\u001b[1;31mAttributeError\u001b[0m: module 'phonenumbers.geodata' has no attribute 'description_for_number'"
     ]
    }
   ],
   "source": [
    "p1=phn.parse(\"+919179048064\")\n",
    "p2=phn.parse(\"+919691733090\")\n",
    "p3=phn.parse(\"+916267582758\")\n",
    "p4=phn.parse(\"+917879169751\")\n",
    "p5=phn.parse(\"+917440343696\")\n",
    "\n",
    "print(\"\\nPhone Numbers Location\\n\")\n",
    "print(gc.description_for_number(p1,\"en\"))\n",
    "print(gc.description_for_number(p2,\"en\"))\n",
    "print(gc.description_for_number(p3,\"en\"))\n",
    "print(gc.description_for_number(p4,\"en\"))\n",
    "print(gc.description_for_number(p5,\"en\"))"
   ]
  },
  {
   "cell_type": "code",
   "execution_count": 7,
   "id": "eee52a49",
   "metadata": {},
   "outputs": [
    {
     "data": {
      "text/plain": [
       "['AsYouTypeFormatter',\n",
       " 'COUNTRY_CODES_FOR_NON_GEO_REGIONS',\n",
       " 'COUNTRY_CODE_TO_REGION_CODE',\n",
       " 'CountryCodeSource',\n",
       " 'FrozenPhoneNumber',\n",
       " 'Leniency',\n",
       " 'MatchType',\n",
       " 'NON_DIGITS_PATTERN',\n",
       " 'NumberFormat',\n",
       " 'NumberParseException',\n",
       " 'PhoneMetadata',\n",
       " 'PhoneNumber',\n",
       " 'PhoneNumberDesc',\n",
       " 'PhoneNumberFormat',\n",
       " 'PhoneNumberMatch',\n",
       " 'PhoneNumberMatcher',\n",
       " 'PhoneNumberType',\n",
       " 'REGION_CODE_FOR_NON_GEO_ENTITY',\n",
       " 'SUPPORTED_REGIONS',\n",
       " 'SUPPORTED_SHORT_REGIONS',\n",
       " 'ShortNumberCost',\n",
       " 'UNKNOWN_REGION',\n",
       " 'ValidationResult',\n",
       " '__all__',\n",
       " '__builtins__',\n",
       " '__cached__',\n",
       " '__doc__',\n",
       " '__file__',\n",
       " '__loader__',\n",
       " '__name__',\n",
       " '__package__',\n",
       " '__path__',\n",
       " '__spec__',\n",
       " '__version__',\n",
       " 'asyoutypeformatter',\n",
       " 'can_be_internationally_dialled',\n",
       " 'connects_to_emergency_number',\n",
       " 'convert_alpha_characters_in_number',\n",
       " 'country_code_for_region',\n",
       " 'country_code_for_valid_region',\n",
       " 'country_mobile_token',\n",
       " 'data',\n",
       " 'example_number',\n",
       " 'example_number_for_non_geo_entity',\n",
       " 'example_number_for_type',\n",
       " 'expected_cost',\n",
       " 'expected_cost_for_region',\n",
       " 'format_by_pattern',\n",
       " 'format_in_original_format',\n",
       " 'format_national_number_with_carrier_code',\n",
       " 'format_national_number_with_preferred_carrier_code',\n",
       " 'format_number',\n",
       " 'format_number_for_mobile_dialing',\n",
       " 'format_out_of_country_calling_number',\n",
       " 'format_out_of_country_keeping_alpha_chars',\n",
       " 'geocoder',\n",
       " 'geodata',\n",
       " 'invalid_example_number',\n",
       " 'is_alpha_number',\n",
       " 'is_carrier_specific',\n",
       " 'is_carrier_specific_for_region',\n",
       " 'is_emergency_number',\n",
       " 'is_mobile_number_portable_region',\n",
       " 'is_nanpa_country',\n",
       " 'is_number_geographical',\n",
       " 'is_number_match',\n",
       " 'is_number_type_geographical',\n",
       " 'is_possible_number',\n",
       " 'is_possible_number_for_type',\n",
       " 'is_possible_number_for_type_with_reason',\n",
       " 'is_possible_number_string',\n",
       " 'is_possible_number_with_reason',\n",
       " 'is_possible_short_number',\n",
       " 'is_possible_short_number_for_region',\n",
       " 'is_sms_service_for_region',\n",
       " 'is_valid_number',\n",
       " 'is_valid_number_for_region',\n",
       " 'is_valid_short_number',\n",
       " 'is_valid_short_number_for_region',\n",
       " 'length_of_geographical_area_code',\n",
       " 'length_of_national_destination_code',\n",
       " 'national_significant_number',\n",
       " 'ndd_prefix_for_region',\n",
       " 'normalize_diallable_chars_only',\n",
       " 'normalize_digits_only',\n",
       " 'number_type',\n",
       " 'parse',\n",
       " 'phonemetadata',\n",
       " 'phonenumber',\n",
       " 'phonenumbermatcher',\n",
       " 'phonenumberutil',\n",
       " 'prefix',\n",
       " 're_util',\n",
       " 'region_code_for_country_code',\n",
       " 'region_code_for_number',\n",
       " 'region_codes_for_country_code',\n",
       " 'shortdata',\n",
       " 'shortnumberinfo',\n",
       " 'supported_calling_codes',\n",
       " 'supported_types_for_non_geo_entity',\n",
       " 'supported_types_for_region',\n",
       " 'truncate_too_long_number',\n",
       " 'unicode_util',\n",
       " 'util']"
      ]
     },
     "execution_count": 7,
     "metadata": {},
     "output_type": "execute_result"
    }
   ],
   "source": [
    "dir(phn)"
   ]
  },
  {
   "cell_type": "code",
   "execution_count": 19,
   "id": "4ce8d73c",
   "metadata": {},
   "outputs": [],
   "source": [
    "import phonenumbers as pn"
   ]
  },
  {
   "cell_type": "code",
   "execution_count": 17,
   "id": "211a138a",
   "metadata": {},
   "outputs": [],
   "source": [
    "from phonenumbers import phonemetadata as pm"
   ]
  },
  {
   "cell_type": "code",
   "execution_count": 21,
   "id": "c1cad901",
   "metadata": {},
   "outputs": [
    {
     "ename": "NumberParseException",
     "evalue": "(0) Missing or invalid default region.",
     "output_type": "error",
     "traceback": [
      "\u001b[1;31m---------------------------------------------------------------------------\u001b[0m",
      "\u001b[1;31mNumberParseException\u001b[0m                      Traceback (most recent call last)",
      "Cell \u001b[1;32mIn[21], line 1\u001b[0m\n\u001b[1;32m----> 1\u001b[0m p1\u001b[38;5;241m=\u001b[39mphn\u001b[38;5;241m.\u001b[39mparse(\u001b[38;5;124m\"\u001b[39m\u001b[38;5;124m9179048064\u001b[39m\u001b[38;5;124m\"\u001b[39m)\n\u001b[0;32m      2\u001b[0m \u001b[38;5;28mprint\u001b[39m(p1)\n",
      "File \u001b[1;32m~\\anaconda3\\Lib\\site-packages\\phonenumbers\\phonenumberutil.py:2942\u001b[0m, in \u001b[0;36mparse\u001b[1;34m(number, region, keep_raw_input, numobj, _check_region)\u001b[0m\n\u001b[0;32m   2939\u001b[0m \u001b[38;5;66;03m# Check the region supplied is valid, or that the extracted number starts\u001b[39;00m\n\u001b[0;32m   2940\u001b[0m \u001b[38;5;66;03m# with some sort of + sign so the number's region can be determined.\u001b[39;00m\n\u001b[0;32m   2941\u001b[0m \u001b[38;5;28;01mif\u001b[39;00m _check_region \u001b[38;5;129;01mand\u001b[39;00m \u001b[38;5;129;01mnot\u001b[39;00m _check_region_for_parsing(national_number, region):\n\u001b[1;32m-> 2942\u001b[0m     \u001b[38;5;28;01mraise\u001b[39;00m NumberParseException(NumberParseException\u001b[38;5;241m.\u001b[39mINVALID_COUNTRY_CODE,\n\u001b[0;32m   2943\u001b[0m                                \u001b[38;5;124m\"\u001b[39m\u001b[38;5;124mMissing or invalid default region.\u001b[39m\u001b[38;5;124m\"\u001b[39m)\n\u001b[0;32m   2944\u001b[0m \u001b[38;5;28;01mif\u001b[39;00m keep_raw_input:\n\u001b[0;32m   2945\u001b[0m     numobj\u001b[38;5;241m.\u001b[39mraw_input \u001b[38;5;241m=\u001b[39m number\n",
      "\u001b[1;31mNumberParseException\u001b[0m: (0) Missing or invalid default region."
     ]
    }
   ],
   "source": [
    "p1=phn.parse(\"9179048064\")\n",
    "print(p1)"
   ]
  },
  {
   "cell_type": "code",
   "execution_count": null,
   "id": "5bb6320f",
   "metadata": {},
   "outputs": [],
   "source": []
  }
 ],
 "metadata": {
  "kernelspec": {
   "display_name": "Python 3 (ipykernel)",
   "language": "python",
   "name": "python3"
  },
  "language_info": {
   "codemirror_mode": {
    "name": "ipython",
    "version": 3
   },
   "file_extension": ".py",
   "mimetype": "text/x-python",
   "name": "python",
   "nbconvert_exporter": "python",
   "pygments_lexer": "ipython3",
   "version": "3.11.4"
  }
 },
 "nbformat": 4,
 "nbformat_minor": 5
}
