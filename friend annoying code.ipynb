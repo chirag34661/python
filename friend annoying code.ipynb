{
 "cells": [
  {
   "cell_type": "code",
   "execution_count": 1,
   "id": "78bedd39",
   "metadata": {},
   "outputs": [],
   "source": [
    "import pyautogui as pg"
   ]
  },
  {
   "cell_type": "code",
   "execution_count": 2,
   "id": "e934e6df",
   "metadata": {},
   "outputs": [],
   "source": [
    "import random"
   ]
  },
  {
   "cell_type": "code",
   "execution_count": 5,
   "id": "ae7df38f",
   "metadata": {},
   "outputs": [],
   "source": [
    "import time\n",
    "love=('baby','darlo','life',\"queen\")\n",
    "time.sleep(10)\n",
    "\n",
    "for i in range(15):\n",
    "    a=random.choice(love)\n",
    "    pg.write(\"I love you \"+a)\n",
    "    pg.press(\"enter\")"
   ]
  },
  {
   "cell_type": "raw",
   "id": "7c875b3e",
   "metadata": {},
   "source": [
    "\n"
   ]
  },
  {
   "cell_type": "code",
   "execution_count": 3,
   "id": "ce095c69",
   "metadata": {},
   "outputs": [],
   "source": [
    "import time\n",
    "import random\n",
    "import pyautogui as pg\n",
    "animal=('chuhiya','chhipkali','mice','Raccoon')\n",
    "time.sleep(8)\n",
    "\n",
    "for i in range(120):\n",
    "    a=random.choice(animal)\n",
    "    pg.write(\"Ky be \"+a+\"??\")\n",
    "    pg.press(\"enter\")"
   ]
  },
  {
   "cell_type": "code",
   "execution_count": 4,
   "id": "2f4d248c",
   "metadata": {},
   "outputs": [],
   "source": [
    "import time\n",
    "import random\n",
    "import pyautogui as pg\n",
    "animal=('di','didu','favourite di','bestfriend','understanding didi')\n",
    "time.sleep(8)\n",
    "for i in range(150):\n",
    "    a=random.choice(animal)\n",
    "    pg.write(\"happy rakshabandhan \"+a)\n",
    "    pg.press(\"enter\")"
   ]
  },
  {
   "cell_type": "code",
   "execution_count": null,
   "id": "b1213280",
   "metadata": {},
   "outputs": [],
   "source": []
  }
 ],
 "metadata": {
  "kernelspec": {
   "display_name": "Python 3 (ipykernel)",
   "language": "python",
   "name": "python3"
  },
  "language_info": {
   "codemirror_mode": {
    "name": "ipython",
    "version": 3
   },
   "file_extension": ".py",
   "mimetype": "text/x-python",
   "name": "python",
   "nbconvert_exporter": "python",
   "pygments_lexer": "ipython3",
   "version": "3.11.4"
  }
 },
 "nbformat": 4,
 "nbformat_minor": 5
}
